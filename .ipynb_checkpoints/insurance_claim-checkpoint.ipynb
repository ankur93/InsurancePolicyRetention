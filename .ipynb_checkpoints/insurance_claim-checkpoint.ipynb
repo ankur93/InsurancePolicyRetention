{
 "cells": [
  {
   "cell_type": "code",
   "execution_count": 146,
   "metadata": {},
   "outputs": [],
   "source": [
    "import pandas as pd\n",
    "import numpy as np\n",
    "import seaborn as sns\n",
    "import matplotlib.pyplot as plt\n",
    "\n",
    "import warnings\n",
    "warnings.filterwarnings('ignore')\n",
    "\n",
    "# import pandas_profiling as pp"
   ]
  },
  {
   "cell_type": "code",
   "execution_count": 147,
   "metadata": {},
   "outputs": [],
   "source": [
    "# removes junk values in cells\n",
    "def hash_value_mapper(value):\n",
    "    if(value == '#VALUE!'):\n",
    "       return 'NaN';\n",
    "    elif(value[-1] == '%'):\n",
    "       return float(value[:-1]);\n",
    "    return float(value);\n",
    "\n",
    "# maps string type integer values to Integer type\n",
    "def string_to_int_mapper(value):\n",
    "    return int(value);\n",
    "\n",
    "# translates age into age-groups\n",
    "def ageMapper(ageArray):\n",
    "    age_group_array = [];\n",
    "    for age in ageArray:\n",
    "        age = int(age)\n",
    "        lowerLim =  (int(age/10) - 1) if int(age/10) == age/10 else int(age/10);\n",
    "        upperLim = lowerLim + 1;\n",
    "        age_group_array.append('{0} - {1}'.format(lowerLim*10 + 1, upperLim*10));\n",
    "    return age_group_array;"
   ]
  },
  {
   "cell_type": "code",
   "execution_count": 148,
   "metadata": {},
   "outputs": [],
   "source": [
    "retention_data = pd.read_csv('./data/retention/insurance_cust_retention.csv',\n",
    "                             converters = {'Actual Change in Price vs last Year': hash_value_mapper,\n",
    "                                          '% Change in Price vs last Year': hash_value_mapper,\n",
    "                                          'Grouped Change in Price': hash_value_mapper,\n",
    "                                          'Years of Tenure with Current Provider': string_to_int_mapper}\n",
    "                            );\n",
    "retention_data.columns = retention_data.columns.str.replace(\" \", \"_\");\n",
    "retention_data.rename(columns = {'AGE':'Age',\n",
    "                                 '%_Change_in_Price_vs_last_Year':'percent_Change_in_Price_vs_last_Year',\n",
    "                                 'Renewed?':'Renewed'},\n",
    "                     inplace=True);\n"
   ]
  },
  {
   "cell_type": "code",
   "execution_count": 149,
   "metadata": {},
   "outputs": [],
   "source": [
    "retention_data['Age_group'] = ageMapper(retention_data.Age);"
   ]
  },
  {
   "cell_type": "markdown",
   "metadata": {},
   "source": [
    "<span style='color:blue'>**Cast columns to floating point numbers**</span>"
   ]
  },
  {
   "cell_type": "code",
   "execution_count": 150,
   "metadata": {},
   "outputs": [],
   "source": [
    "retention_data.Actual_Change_in_Price_vs_last_Year = retention_data.Actual_Change_in_Price_vs_last_Year.astype('float64');\n",
    "retention_data.percent_Change_in_Price_vs_last_Year = retention_data.percent_Change_in_Price_vs_last_Year.astype('float64');\n",
    "retention_data.Grouped_Change_in_Price = retention_data.Grouped_Change_in_Price.astype('float64');"
   ]
  },
  {
   "cell_type": "code",
   "execution_count": 151,
   "metadata": {},
   "outputs": [
    {
     "data": {
      "text/html": [
       "<div>\n",
       "<style scoped>\n",
       "    .dataframe tbody tr th:only-of-type {\n",
       "        vertical-align: middle;\n",
       "    }\n",
       "\n",
       "    .dataframe tbody tr th {\n",
       "        vertical-align: top;\n",
       "    }\n",
       "\n",
       "    .dataframe thead th {\n",
       "        text-align: right;\n",
       "    }\n",
       "</style>\n",
       "<table border=\"1\" class=\"dataframe\">\n",
       "  <thead>\n",
       "    <tr style=\"text-align: right;\">\n",
       "      <th></th>\n",
       "      <th>Marital_Status</th>\n",
       "      <th>Age</th>\n",
       "      <th>Gender</th>\n",
       "      <th>Car_Value</th>\n",
       "      <th>Years_of_No_Claims_Bonus</th>\n",
       "      <th>Annual_Mileage</th>\n",
       "      <th>Payment_Method</th>\n",
       "      <th>Acquisition_Channel</th>\n",
       "      <th>Years_of_Tenure_with_Current_Provider</th>\n",
       "      <th>Price</th>\n",
       "      <th>Actual_Change_in_Price_vs_last_Year</th>\n",
       "      <th>percent_Change_in_Price_vs_last_Year</th>\n",
       "      <th>Grouped_Change_in_Price</th>\n",
       "      <th>Renewed</th>\n",
       "      <th>Age_group</th>\n",
       "    </tr>\n",
       "  </thead>\n",
       "  <tbody>\n",
       "    <tr>\n",
       "      <th>0</th>\n",
       "      <td>M</td>\n",
       "      <td>45</td>\n",
       "      <td>F</td>\n",
       "      <td>500</td>\n",
       "      <td>4</td>\n",
       "      <td>6000</td>\n",
       "      <td>Monthly</td>\n",
       "      <td>Inbound</td>\n",
       "      <td>4</td>\n",
       "      <td>289.4</td>\n",
       "      <td>-11.94</td>\n",
       "      <td>-3.96</td>\n",
       "      <td>-0.05</td>\n",
       "      <td>0</td>\n",
       "      <td>41 - 50</td>\n",
       "    </tr>\n",
       "    <tr>\n",
       "      <th>1</th>\n",
       "      <td>M</td>\n",
       "      <td>40</td>\n",
       "      <td>M</td>\n",
       "      <td>3000</td>\n",
       "      <td>8</td>\n",
       "      <td>6000</td>\n",
       "      <td>Monthly</td>\n",
       "      <td>Inbound</td>\n",
       "      <td>4</td>\n",
       "      <td>170.4</td>\n",
       "      <td>45.62</td>\n",
       "      <td>37.00</td>\n",
       "      <td>0.35</td>\n",
       "      <td>1</td>\n",
       "      <td>31 - 40</td>\n",
       "    </tr>\n",
       "    <tr>\n",
       "      <th>2</th>\n",
       "      <td>S</td>\n",
       "      <td>25</td>\n",
       "      <td>F</td>\n",
       "      <td>4000</td>\n",
       "      <td>4</td>\n",
       "      <td>4000</td>\n",
       "      <td>Monthly</td>\n",
       "      <td>Inbound</td>\n",
       "      <td>4</td>\n",
       "      <td>466.1</td>\n",
       "      <td>-123.15</td>\n",
       "      <td>-21.00</td>\n",
       "      <td>-0.20</td>\n",
       "      <td>1</td>\n",
       "      <td>21 - 30</td>\n",
       "    </tr>\n",
       "    <tr>\n",
       "      <th>3</th>\n",
       "      <td>M</td>\n",
       "      <td>42</td>\n",
       "      <td>M</td>\n",
       "      <td>1800</td>\n",
       "      <td>9</td>\n",
       "      <td>10000</td>\n",
       "      <td>Annual</td>\n",
       "      <td>Inbound</td>\n",
       "      <td>4</td>\n",
       "      <td>245.1</td>\n",
       "      <td>2.34</td>\n",
       "      <td>1.00</td>\n",
       "      <td>0.00</td>\n",
       "      <td>1</td>\n",
       "      <td>41 - 50</td>\n",
       "    </tr>\n",
       "    <tr>\n",
       "      <th>4</th>\n",
       "      <td>M</td>\n",
       "      <td>59</td>\n",
       "      <td>M</td>\n",
       "      <td>5000</td>\n",
       "      <td>9</td>\n",
       "      <td>3000</td>\n",
       "      <td>Annual</td>\n",
       "      <td>Inbound</td>\n",
       "      <td>4</td>\n",
       "      <td>240.5</td>\n",
       "      <td>42.56</td>\n",
       "      <td>22.00</td>\n",
       "      <td>0.20</td>\n",
       "      <td>0</td>\n",
       "      <td>51 - 60</td>\n",
       "    </tr>\n",
       "  </tbody>\n",
       "</table>\n",
       "</div>"
      ],
      "text/plain": [
       "  Marital_Status  Age Gender  Car_Value  Years_of_No_Claims_Bonus  \\\n",
       "0              M   45      F        500                         4   \n",
       "1              M   40      M       3000                         8   \n",
       "2              S   25      F       4000                         4   \n",
       "3              M   42      M       1800                         9   \n",
       "4              M   59      M       5000                         9   \n",
       "\n",
       "   Annual_Mileage Payment_Method Acquisition_Channel  \\\n",
       "0            6000        Monthly             Inbound   \n",
       "1            6000        Monthly             Inbound   \n",
       "2            4000        Monthly             Inbound   \n",
       "3           10000         Annual             Inbound   \n",
       "4            3000         Annual             Inbound   \n",
       "\n",
       "   Years_of_Tenure_with_Current_Provider  Price  \\\n",
       "0                                      4  289.4   \n",
       "1                                      4  170.4   \n",
       "2                                      4  466.1   \n",
       "3                                      4  245.1   \n",
       "4                                      4  240.5   \n",
       "\n",
       "   Actual_Change_in_Price_vs_last_Year  percent_Change_in_Price_vs_last_Year  \\\n",
       "0                               -11.94                                 -3.96   \n",
       "1                                45.62                                 37.00   \n",
       "2                              -123.15                                -21.00   \n",
       "3                                 2.34                                  1.00   \n",
       "4                                42.56                                 22.00   \n",
       "\n",
       "   Grouped_Change_in_Price  Renewed Age_group  \n",
       "0                    -0.05        0   41 - 50  \n",
       "1                     0.35        1   31 - 40  \n",
       "2                    -0.20        1   21 - 30  \n",
       "3                     0.00        1   41 - 50  \n",
       "4                     0.20        0   51 - 60  "
      ]
     },
     "execution_count": 151,
     "metadata": {},
     "output_type": "execute_result"
    }
   ],
   "source": [
    "retention_data.head()"
   ]
  },
  {
   "cell_type": "code",
   "execution_count": 152,
   "metadata": {},
   "outputs": [
    {
     "name": "stdout",
     "output_type": "stream",
     "text": [
      "<class 'pandas.core.frame.DataFrame'>\n",
      "RangeIndex: 20020 entries, 0 to 20019\n",
      "Data columns (total 15 columns):\n",
      "Marital_Status                           20020 non-null object\n",
      "Age                                      20020 non-null int64\n",
      "Gender                                   20020 non-null object\n",
      "Car_Value                                20020 non-null int64\n",
      "Years_of_No_Claims_Bonus                 20020 non-null int64\n",
      "Annual_Mileage                           20020 non-null int64\n",
      "Payment_Method                           20020 non-null object\n",
      "Acquisition_Channel                      20020 non-null object\n",
      "Years_of_Tenure_with_Current_Provider    20020 non-null int64\n",
      "Price                                    20017 non-null float64\n",
      "Actual_Change_in_Price_vs_last_Year      20017 non-null float64\n",
      "percent_Change_in_Price_vs_last_Year     20017 non-null float64\n",
      "Grouped_Change_in_Price                  20017 non-null float64\n",
      "Renewed                                  20020 non-null int64\n",
      "Age_group                                20020 non-null object\n",
      "dtypes: float64(4), int64(6), object(5)\n",
      "memory usage: 2.3+ MB\n"
     ]
    }
   ],
   "source": [
    "retention_data.info()"
   ]
  },
  {
   "cell_type": "markdown",
   "metadata": {},
   "source": [
    "***"
   ]
  },
  {
   "cell_type": "markdown",
   "metadata": {},
   "source": [
    "## Missing value treatment"
   ]
  },
  {
   "cell_type": "code",
   "execution_count": 153,
   "metadata": {},
   "outputs": [],
   "source": [
    "#replace NaN with mean\n",
    "retention_data.Actual_Change_in_Price_vs_last_Year.fillna(value = retention_data.Actual_Change_in_Price_vs_last_Year.mean(), \n",
    "                                                          inplace=True);\n",
    "retention_data.Grouped_Change_in_Price.fillna(value = retention_data.Grouped_Change_in_Price.mean(), \n",
    "                            inplace=True);\n",
    "retention_data.percent_Change_in_Price_vs_last_Year.fillna(value = retention_data.percent_Change_in_Price_vs_last_Year.mean(), \n",
    "                            inplace=True);\n",
    "retention_data.Price.fillna(value = retention_data.Price.mean(), \n",
    "                            inplace=True)"
   ]
  },
  {
   "cell_type": "markdown",
   "metadata": {},
   "source": [
    "***"
   ]
  },
  {
   "cell_type": "markdown",
   "metadata": {},
   "source": [
    "## Split data into numerical and categorical features"
   ]
  },
  {
   "cell_type": "code",
   "execution_count": 154,
   "metadata": {},
   "outputs": [],
   "source": [
    "retention_numerical = retention_data.select_dtypes(['int64', 'float64']);\n",
    "retention_categorical = retention_data.select_dtypes(['object']);"
   ]
  },
  {
   "cell_type": "code",
   "execution_count": 155,
   "metadata": {},
   "outputs": [
    {
     "data": {
      "text/html": [
       "<div>\n",
       "<style scoped>\n",
       "    .dataframe tbody tr th:only-of-type {\n",
       "        vertical-align: middle;\n",
       "    }\n",
       "\n",
       "    .dataframe tbody tr th {\n",
       "        vertical-align: top;\n",
       "    }\n",
       "\n",
       "    .dataframe thead th {\n",
       "        text-align: right;\n",
       "    }\n",
       "</style>\n",
       "<table border=\"1\" class=\"dataframe\">\n",
       "  <thead>\n",
       "    <tr style=\"text-align: right;\">\n",
       "      <th></th>\n",
       "      <th>Marital_Status</th>\n",
       "      <th>Gender</th>\n",
       "      <th>Payment_Method</th>\n",
       "      <th>Acquisition_Channel</th>\n",
       "      <th>Age_group</th>\n",
       "    </tr>\n",
       "  </thead>\n",
       "  <tbody>\n",
       "    <tr>\n",
       "      <th>0</th>\n",
       "      <td>M</td>\n",
       "      <td>F</td>\n",
       "      <td>Monthly</td>\n",
       "      <td>Inbound</td>\n",
       "      <td>41 - 50</td>\n",
       "    </tr>\n",
       "    <tr>\n",
       "      <th>1</th>\n",
       "      <td>M</td>\n",
       "      <td>M</td>\n",
       "      <td>Monthly</td>\n",
       "      <td>Inbound</td>\n",
       "      <td>31 - 40</td>\n",
       "    </tr>\n",
       "    <tr>\n",
       "      <th>2</th>\n",
       "      <td>S</td>\n",
       "      <td>F</td>\n",
       "      <td>Monthly</td>\n",
       "      <td>Inbound</td>\n",
       "      <td>21 - 30</td>\n",
       "    </tr>\n",
       "    <tr>\n",
       "      <th>3</th>\n",
       "      <td>M</td>\n",
       "      <td>M</td>\n",
       "      <td>Annual</td>\n",
       "      <td>Inbound</td>\n",
       "      <td>41 - 50</td>\n",
       "    </tr>\n",
       "    <tr>\n",
       "      <th>4</th>\n",
       "      <td>M</td>\n",
       "      <td>M</td>\n",
       "      <td>Annual</td>\n",
       "      <td>Inbound</td>\n",
       "      <td>51 - 60</td>\n",
       "    </tr>\n",
       "  </tbody>\n",
       "</table>\n",
       "</div>"
      ],
      "text/plain": [
       "  Marital_Status Gender Payment_Method Acquisition_Channel Age_group\n",
       "0              M      F        Monthly             Inbound   41 - 50\n",
       "1              M      M        Monthly             Inbound   31 - 40\n",
       "2              S      F        Monthly             Inbound   21 - 30\n",
       "3              M      M         Annual             Inbound   41 - 50\n",
       "4              M      M         Annual             Inbound   51 - 60"
      ]
     },
     "execution_count": 155,
     "metadata": {},
     "output_type": "execute_result"
    }
   ],
   "source": [
    "retention_categorical.head()"
   ]
  },
  {
   "cell_type": "markdown",
   "metadata": {},
   "source": [
    "### Process numerical features"
   ]
  },
  {
   "cell_type": "code",
   "execution_count": 156,
   "metadata": {},
   "outputs": [
    {
     "data": {
      "text/html": [
       "<div>\n",
       "<style scoped>\n",
       "    .dataframe tbody tr th:only-of-type {\n",
       "        vertical-align: middle;\n",
       "    }\n",
       "\n",
       "    .dataframe tbody tr th {\n",
       "        vertical-align: top;\n",
       "    }\n",
       "\n",
       "    .dataframe thead th {\n",
       "        text-align: right;\n",
       "    }\n",
       "</style>\n",
       "<table border=\"1\" class=\"dataframe\">\n",
       "  <thead>\n",
       "    <tr style=\"text-align: right;\">\n",
       "      <th></th>\n",
       "      <th>count</th>\n",
       "      <th>mean</th>\n",
       "      <th>std</th>\n",
       "      <th>min</th>\n",
       "      <th>25%</th>\n",
       "      <th>50%</th>\n",
       "      <th>75%</th>\n",
       "      <th>max</th>\n",
       "    </tr>\n",
       "  </thead>\n",
       "  <tbody>\n",
       "    <tr>\n",
       "      <th>Age</th>\n",
       "      <td>20020.0</td>\n",
       "      <td>44.744555</td>\n",
       "      <td>12.680561</td>\n",
       "      <td>17.00</td>\n",
       "      <td>36.00</td>\n",
       "      <td>44.000</td>\n",
       "      <td>52.0000</td>\n",
       "      <td>89.00</td>\n",
       "    </tr>\n",
       "    <tr>\n",
       "      <th>Car_Value</th>\n",
       "      <td>20020.0</td>\n",
       "      <td>3686.924126</td>\n",
       "      <td>3981.033913</td>\n",
       "      <td>0.00</td>\n",
       "      <td>1000.00</td>\n",
       "      <td>2500.000</td>\n",
       "      <td>5000.0000</td>\n",
       "      <td>60000.00</td>\n",
       "    </tr>\n",
       "    <tr>\n",
       "      <th>Years_of_No_Claims_Bonus</th>\n",
       "      <td>20020.0</td>\n",
       "      <td>5.757143</td>\n",
       "      <td>2.894185</td>\n",
       "      <td>0.00</td>\n",
       "      <td>3.00</td>\n",
       "      <td>6.000</td>\n",
       "      <td>9.0000</td>\n",
       "      <td>9.00</td>\n",
       "    </tr>\n",
       "    <tr>\n",
       "      <th>Annual_Mileage</th>\n",
       "      <td>20020.0</td>\n",
       "      <td>6528.061239</td>\n",
       "      <td>3585.303675</td>\n",
       "      <td>1.00</td>\n",
       "      <td>4000.00</td>\n",
       "      <td>5200.000</td>\n",
       "      <td>9000.0000</td>\n",
       "      <td>70000.00</td>\n",
       "    </tr>\n",
       "    <tr>\n",
       "      <th>Years_of_Tenure_with_Current_Provider</th>\n",
       "      <td>20020.0</td>\n",
       "      <td>2.479620</td>\n",
       "      <td>0.853137</td>\n",
       "      <td>1.00</td>\n",
       "      <td>2.00</td>\n",
       "      <td>2.000</td>\n",
       "      <td>3.0000</td>\n",
       "      <td>4.00</td>\n",
       "    </tr>\n",
       "    <tr>\n",
       "      <th>Price</th>\n",
       "      <td>20020.0</td>\n",
       "      <td>422.485702</td>\n",
       "      <td>262.405063</td>\n",
       "      <td>96.00</td>\n",
       "      <td>264.20</td>\n",
       "      <td>357.300</td>\n",
       "      <td>501.6250</td>\n",
       "      <td>4449.90</td>\n",
       "    </tr>\n",
       "    <tr>\n",
       "      <th>Actual_Change_in_Price_vs_last_Year</th>\n",
       "      <td>20020.0</td>\n",
       "      <td>16.630885</td>\n",
       "      <td>411.036698</td>\n",
       "      <td>-20576.48</td>\n",
       "      <td>-21.89</td>\n",
       "      <td>15.555</td>\n",
       "      <td>58.8325</td>\n",
       "      <td>36974.28</td>\n",
       "    </tr>\n",
       "    <tr>\n",
       "      <th>percent_Change_in_Price_vs_last_Year</th>\n",
       "      <td>20020.0</td>\n",
       "      <td>12.208675</td>\n",
       "      <td>320.482642</td>\n",
       "      <td>-3866.00</td>\n",
       "      <td>-6.00</td>\n",
       "      <td>5.000</td>\n",
       "      <td>21.0000</td>\n",
       "      <td>44140.00</td>\n",
       "    </tr>\n",
       "    <tr>\n",
       "      <th>Grouped_Change_in_Price</th>\n",
       "      <td>20020.0</td>\n",
       "      <td>0.121934</td>\n",
       "      <td>3.204866</td>\n",
       "      <td>-38.65</td>\n",
       "      <td>-0.05</td>\n",
       "      <td>0.050</td>\n",
       "      <td>0.2000</td>\n",
       "      <td>441.40</td>\n",
       "    </tr>\n",
       "    <tr>\n",
       "      <th>Renewed</th>\n",
       "      <td>20020.0</td>\n",
       "      <td>0.621329</td>\n",
       "      <td>0.485068</td>\n",
       "      <td>0.00</td>\n",
       "      <td>0.00</td>\n",
       "      <td>1.000</td>\n",
       "      <td>1.0000</td>\n",
       "      <td>1.00</td>\n",
       "    </tr>\n",
       "  </tbody>\n",
       "</table>\n",
       "</div>"
      ],
      "text/plain": [
       "                                         count         mean          std  \\\n",
       "Age                                    20020.0    44.744555    12.680561   \n",
       "Car_Value                              20020.0  3686.924126  3981.033913   \n",
       "Years_of_No_Claims_Bonus               20020.0     5.757143     2.894185   \n",
       "Annual_Mileage                         20020.0  6528.061239  3585.303675   \n",
       "Years_of_Tenure_with_Current_Provider  20020.0     2.479620     0.853137   \n",
       "Price                                  20020.0   422.485702   262.405063   \n",
       "Actual_Change_in_Price_vs_last_Year    20020.0    16.630885   411.036698   \n",
       "percent_Change_in_Price_vs_last_Year   20020.0    12.208675   320.482642   \n",
       "Grouped_Change_in_Price                20020.0     0.121934     3.204866   \n",
       "Renewed                                20020.0     0.621329     0.485068   \n",
       "\n",
       "                                            min      25%       50%        75%  \\\n",
       "Age                                       17.00    36.00    44.000    52.0000   \n",
       "Car_Value                                  0.00  1000.00  2500.000  5000.0000   \n",
       "Years_of_No_Claims_Bonus                   0.00     3.00     6.000     9.0000   \n",
       "Annual_Mileage                             1.00  4000.00  5200.000  9000.0000   \n",
       "Years_of_Tenure_with_Current_Provider      1.00     2.00     2.000     3.0000   \n",
       "Price                                     96.00   264.20   357.300   501.6250   \n",
       "Actual_Change_in_Price_vs_last_Year   -20576.48   -21.89    15.555    58.8325   \n",
       "percent_Change_in_Price_vs_last_Year   -3866.00    -6.00     5.000    21.0000   \n",
       "Grouped_Change_in_Price                  -38.65    -0.05     0.050     0.2000   \n",
       "Renewed                                    0.00     0.00     1.000     1.0000   \n",
       "\n",
       "                                            max  \n",
       "Age                                       89.00  \n",
       "Car_Value                              60000.00  \n",
       "Years_of_No_Claims_Bonus                   9.00  \n",
       "Annual_Mileage                         70000.00  \n",
       "Years_of_Tenure_with_Current_Provider      4.00  \n",
       "Price                                   4449.90  \n",
       "Actual_Change_in_Price_vs_last_Year    36974.28  \n",
       "percent_Change_in_Price_vs_last_Year   44140.00  \n",
       "Grouped_Change_in_Price                  441.40  \n",
       "Renewed                                    1.00  "
      ]
     },
     "execution_count": 156,
     "metadata": {},
     "output_type": "execute_result"
    }
   ],
   "source": [
    "retention_numerical.describe().T"
   ]
  },
  {
   "cell_type": "code",
   "execution_count": 157,
   "metadata": {},
   "outputs": [
    {
     "data": {
      "image/png": "[encoded data removed]",
      "text/plain": [
       "<Figure size 648x360 with 2 Axes>"
      ]
     },
     "metadata": {},
     "output_type": "display_data"
    }
   ],
   "source": [
    "sns.heatmap(retention_numerical.corr(), square=True);\n",
    "sns.set(rc={'figure.figsize': (9,5)})"
   ]
  },
  {
   "cell_type": "markdown",
   "metadata": {},
   "source": [
    "<span style='color:red'>We observe high correlation between __percent_Change_in_Price_vs_last_Year__ and __Grouped_Change_in_Price__. We will drop __percent_Change_in_Price_vs_last_Year__ from our dataset.</span>"
   ]
  },
  {
   "cell_type": "markdown",
   "metadata": {},
   "source": [
    "***"
   ]
  },
  {
   "cell_type": "markdown",
   "metadata": {},
   "source": [
    "***"
   ]
  },
  {
   "cell_type": "markdown",
   "metadata": {},
   "source": [
    "## Exploration"
   ]
  },
  {
   "cell_type": "code",
   "execution_count": 158,
   "metadata": {},
   "outputs": [
    {
     "name": "stdout",
     "output_type": "stream",
     "text": [
      "0 7581\n",
      "1 12439\n"
     ]
    }
   ],
   "source": [
    "renewed_labels = [];\n",
    "renewed_data = [];\n",
    "\n",
    "for(renewed), sub_df in retention_data.groupby('Renewed'):\n",
    "    renewed_data.append(sub_df.Renewed.count());\n",
    "    renewed_labels.append('Renewed' if renewed == 1 else 'Not Renewed');\n",
    "    print(renewed, sub_df.Renewed.count())"
   ]
  },
  {
   "cell_type": "code",
   "execution_count": 159,
   "metadata": {},
   "outputs": [
    {
     "name": "stdout",
     "output_type": "stream",
     "text": [
      "C 20\n",
      "F 9056\n",
      "M 10944\n"
     ]
    }
   ],
   "source": [
    "gender_labels = [];\n",
    "gender_data = [];\n",
    "\n",
    "for(gender), sub_df in retention_data.groupby('Gender'):\n",
    "    gender_data.append(sub_df.Gender.count());\n",
    "    gender_labels.append('Male' if gender == 'M' else 'Female' if gender =='F' else gender);\n",
    "    print(gender, sub_df.Gender.count())"
   ]
  },
  {
   "cell_type": "code",
   "execution_count": 160,
   "metadata": {
    "scrolled": true
   },
   "outputs": [
    {
     "data": {
      "image/png": "[encoded data removed]",
      "text/plain": [
       "<Figure size 648x360 with 2 Axes>"
      ]
     },
     "metadata": {},
     "output_type": "display_data"
    }
   ],
   "source": [
    "fig, axs = plt.subplots(1,2)\n",
    "plt.subplots_adjust(right= 1.5)\n",
    "axs[0].pie(renewed_data, labels=renewed_labels, autopct='%1.1f%%', explode=[0, 0.1], radius = 0.8,\n",
    "        shadow=True, startangle=90);\n",
    "axs[1].pie(gender_data, labels=gender_labels, autopct='%1.1f%%', explode=[0, 0.05, 0], radius = 0.8,\n",
    "        shadow=False, startangle=90);\n",
    "\n"
   ]
  },
  {
   "cell_type": "markdown",
   "metadata": {},
   "source": [
    "***"
   ]
  },
  {
   "cell_type": "markdown",
   "metadata": {},
   "source": [
    "<u><b>Renewal rate w.r.t. to Age group</b></u>"
   ]
  },
  {
   "cell_type": "code",
   "execution_count": 161,
   "metadata": {
    "scrolled": true
   },
   "outputs": [
    {
     "data": {
      "image/png": "[encoded data removed]",
      "text/plain": [
       "<Figure size 864x288 with 1 Axes>"
      ]
     },
     "metadata": {},
     "output_type": "display_data"
    }
   ],
   "source": [
    "props = retention_data.groupby('Age_group')['Renewed'].value_counts(normalize=True).unstack()\n",
    "props.plot(kind='bar', stacked=True, legend=True,\n",
    "           title = 'Renewed contracts distribution based on age group', \n",
    "           figsize = (12,4));\n",
    "plt.xlabel(\"Age group\");\n",
    "plt.xticks(rotation=45);\n",
    "plt.legend(bbox_to_anchor=(0.65, -0.25), title = '1 - Renewed, 0 - Not Renewed');\n"
   ]
  },
  {
   "cell_type": "markdown",
   "metadata": {},
   "source": [
    "<span style='color:red'>**Conclusion:** </span>\n",
    "<span style='color:green'>**Renewal rate increases with age peaking at age group <u>41-60</u> and then decreases with further increment in age**</span>"
   ]
  },
  {
   "cell_type": "markdown",
   "metadata": {},
   "source": [
    "***"
   ]
  },
  {
   "cell_type": "markdown",
   "metadata": {},
   "source": [
    "<u><b>Renewal rate w.r.t. to Gender and Marital Status</b></u>"
   ]
  },
  {
   "cell_type": "code",
   "execution_count": 162,
   "metadata": {},
   "outputs": [
    {
     "data": {
      "image/png": "[encoded data removed]",
      "text/plain": [
       "<Figure size 1563.68x720 with 3 Axes>"
      ]
     },
     "metadata": {},
     "output_type": "display_data"
    }
   ],
   "source": [
    "sns.catplot(\"Marital_Status\", col=\"Gender\", data=retention_data, kind=\"count\",size=10, aspect=0.7, hue='Renewed');"
   ]
  },
  {
   "cell_type": "markdown",
   "metadata": {},
   "source": [
    "***"
   ]
  },
  {
   "cell_type": "markdown",
   "metadata": {},
   "source": [
    "<u><b>Marital status vs Renewal rate</b></u>"
   ]
  },
  {
   "cell_type": "code",
   "execution_count": 163,
   "metadata": {},
   "outputs": [
    {
     "data": {
      "image/png": "[encoded data removed]",
      "text/plain": [
       "<Figure size 720x360 with 1 Axes>"
      ]
     },
     "metadata": {},
     "output_type": "display_data"
    }
   ],
   "source": [
    "props = retention_data.groupby('Marital_Status')['Renewed'].value_counts(normalize=True).unstack()\n",
    "props.plot(kind='bar', stacked=True,\n",
    "           title = 'Renewed contracts distribution per marital status', \n",
    "           figsize = (10,5));\n",
    "plt.legend(bbox_to_anchor=(0.65, -0.15), title = '1 - Renewed, 0 - Not Renewed');\n",
    "plt.xticks(rotation=0);\n",
    "plt.xlabel(\"Marital Status\");"
   ]
  },
  {
   "cell_type": "markdown",
   "metadata": {},
   "source": [
    "<span style='color:red'>**Conclusion:** </span>\n",
    "<span style='color:green'>**Renewal rate is irrelavant of the Marital Status**</span>\n",
    "<br><br>\n",
    "<span style='color:red'>**Note:** </span>\n",
    "<span style='color:red'>**Marital Status is not a good feature for model creation**</span>"
   ]
  },
  {
   "cell_type": "markdown",
   "metadata": {},
   "source": [
    "***"
   ]
  },
  {
   "cell_type": "markdown",
   "metadata": {},
   "source": [
    "<u><b>Gender vs Renewal rate</b></u>"
   ]
  },
  {
   "cell_type": "code",
   "execution_count": 164,
   "metadata": {
    "scrolled": false
   },
   "outputs": [
    {
     "data": {
      "image/png": "[encoded data removed]",
      "text/plain": [
       "<Figure size 432x360 with 1 Axes>"
      ]
     },
     "metadata": {},
     "output_type": "display_data"
    }
   ],
   "source": [
    "props = retention_data.groupby('Gender')['Renewed'].value_counts(normalize=True).unstack()\n",
    "props.plot(kind='bar', stacked=True,\n",
    "           title = 'Renewed contracts distribution per gender', \n",
    "           figsize = (6,5));\n",
    "plt.legend(bbox_to_anchor=(1.0, 0.5), title = '1 - Renewed, 0 - Not Renewed');\n",
    "plt.xticks(rotation=0);"
   ]
  },
  {
   "cell_type": "markdown",
   "metadata": {},
   "source": [
    "<span style='color:red'>**Conclusion:** </span>\n",
    "<span style='color:green'>**Renewal rate is irrelavant of the Gender.**</span>\n",
    "<br><br>\n",
    "<span style='color:red'>**Note:** </span>\n",
    "<span style='color:red'>**Gender is not a good feature for model creation**</span>"
   ]
  },
  {
   "cell_type": "markdown",
   "metadata": {},
   "source": [
    "***"
   ]
  },
  {
   "cell_type": "markdown",
   "metadata": {},
   "source": [
    "<u><b>Payment method vs Renewal rate</b></u>"
   ]
  },
  {
   "cell_type": "code",
   "execution_count": 165,
   "metadata": {},
   "outputs": [
    {
     "data": {
      "image/png": "[encoded data removed]",
      "text/plain": [
       "<Figure size 432x360 with 1 Axes>"
      ]
     },
     "metadata": {},
     "output_type": "display_data"
    }
   ],
   "source": [
    "props = retention_data.groupby('Payment_Method')['Renewed'].value_counts(normalize=True).unstack()\n",
    "props.plot(kind='bar', stacked=True,\n",
    "           title = 'Renewed contracts distribution based on contract length', \n",
    "           figsize = (6,5));\n",
    "plt.legend(bbox_to_anchor=(1.0, 0.5), title = '1 - Renewed, 0 - Not Renewed');\n",
    "plt.xticks(rotation=0);\n",
    "plt.xlabel(\"Subscription\");"
   ]
  },
  {
   "cell_type": "markdown",
   "metadata": {},
   "source": [
    "<span style='color:green'>**Around 74% of monthly contracts are renewed.**</span><span style='color:red'> **vs. only ~50% of annual contracts.**</span>"
   ]
  },
  {
   "cell_type": "markdown",
   "metadata": {},
   "source": [
    "***"
   ]
  },
  {
   "cell_type": "markdown",
   "metadata": {},
   "source": [
    "<u><b>Acquisition channel vs Renewal rate</b></u>"
   ]
  },
  {
   "cell_type": "markdown",
   "metadata": {},
   "source": [
    "**Apendix**\n",
    "> **Outbound:** company approaches customers using their customer care center etc.  \n",
    "  **Inbound:** customer finds company through social media, search, etc.  \n",
    "  **Direct:** company sells directly to customers on their website.  \n",
    "  **Aggregators:** comparison sites.\n"
   ]
  },
  {
   "cell_type": "code",
   "execution_count": 166,
   "metadata": {},
   "outputs": [
    {
     "data": {
      "image/png": "[encoded data removed]",
      "text/plain": [
       "<Figure size 432x360 with 1 Axes>"
      ]
     },
     "metadata": {},
     "output_type": "display_data"
    }
   ],
   "source": [
    "props = retention_data.groupby('Acquisition_Channel')['Renewed'].value_counts(normalize=True).unstack()\n",
    "props.plot(kind='bar', stacked=True,\n",
    "           title = 'Renewed contracts distribution based on acquisition strategy', \n",
    "           figsize = (6,5));\n",
    "plt.legend(bbox_to_anchor=(1.0, 0.5), title = '1 - Renewed, 0 - Not Renewed');\n",
    "plt.xticks(rotation=45);\n",
    "plt.xlabel(\"Acquisition Channel\");"
   ]
  },
  {
   "cell_type": "markdown",
   "metadata": {},
   "source": [
    "<span style='color:red'> \n",
    "    **The <u>Outbound acquisition</u> method is not effective.<br> \n",
    "    The renewal rate in this case is 0%. <br>\n",
    "    The company should redefine Outbound acquisition strategy.**\n",
    "</span>"
   ]
  },
  {
   "cell_type": "markdown",
   "metadata": {},
   "source": [
    "***"
   ]
  },
  {
   "cell_type": "markdown",
   "metadata": {},
   "source": [
    "<u><b> Renewal Rate w.r.t. Tenure </b></u>"
   ]
  },
  {
   "cell_type": "code",
   "execution_count": 167,
   "metadata": {},
   "outputs": [
    {
     "data": {
      "image/png": "[encoded data removed]",
      "text/plain": [
       "<Figure size 432x360 with 1 Axes>"
      ]
     },
     "metadata": {},
     "output_type": "display_data"
    }
   ],
   "source": [
    "props = retention_data.groupby('Years_of_Tenure_with_Current_Provider')['Renewed'].value_counts(normalize=True).unstack()\n",
    "props.plot(kind='bar', stacked=True,\n",
    "           title = 'Renewed contracts distribution based on Tenure', \n",
    "           figsize = (6,5));\n",
    "plt.xlabel(\"Number of years with the company\");\n",
    "plt.xticks(rotation=0)\n",
    "plt.legend(bbox_to_anchor=(1.0, 0.5), title = '1 - Renewed, 0 - Not Renewed');"
   ]
  },
  {
   "cell_type": "markdown",
   "metadata": {},
   "source": [
    "<span style='color:red'>**Conclusion:** </span>\n",
    "<span style='color:green'>**Renewal rate increases with increase in Tenure.**</span><br><br>\n",
    "<span style='color:blue'> <u>People are more likely to renew if they are associated with the Insurance company for a longer period of time.</u></span>"
   ]
  },
  {
   "cell_type": "markdown",
   "metadata": {},
   "source": [
    "***"
   ]
  },
  {
   "cell_type": "markdown",
   "metadata": {},
   "source": [
    "<u><b> Renewal rate w.r.t. times increase in actual price vs Price </b></u>"
   ]
  },
  {
   "cell_type": "code",
   "execution_count": 168,
   "metadata": {
    "scrolled": true
   },
   "outputs": [
    {
     "data": {
      "text/html": [
       "<div>\n",
       "<style scoped>\n",
       "    .dataframe tbody tr th:only-of-type {\n",
       "        vertical-align: middle;\n",
       "    }\n",
       "\n",
       "    .dataframe tbody tr th {\n",
       "        vertical-align: top;\n",
       "    }\n",
       "\n",
       "    .dataframe thead th {\n",
       "        text-align: right;\n",
       "    }\n",
       "</style>\n",
       "<table border=\"1\" class=\"dataframe\">\n",
       "  <thead>\n",
       "    <tr style=\"text-align: right;\">\n",
       "      <th></th>\n",
       "      <th>1</th>\n",
       "      <th>2</th>\n",
       "      <th>3</th>\n",
       "      <th>4</th>\n",
       "      <th>5</th>\n",
       "      <th>6</th>\n",
       "      <th>7</th>\n",
       "      <th>8</th>\n",
       "      <th>9</th>\n",
       "      <th>10</th>\n",
       "      <th>11</th>\n",
       "      <th>12</th>\n",
       "      <th>13</th>\n",
       "      <th>14</th>\n",
       "      <th>15</th>\n",
       "      <th>16</th>\n",
       "      <th>17</th>\n",
       "      <th>18</th>\n",
       "      <th>19</th>\n",
       "      <th>20</th>\n",
       "    </tr>\n",
       "  </thead>\n",
       "  <tbody>\n",
       "    <tr>\n",
       "      <th>1</th>\n",
       "      <td>29</td>\n",
       "      <td>9</td>\n",
       "      <td>6</td>\n",
       "      <td>5</td>\n",
       "      <td>5</td>\n",
       "      <td>5</td>\n",
       "      <td>3</td>\n",
       "      <td>1</td>\n",
       "      <td>1</td>\n",
       "      <td>1</td>\n",
       "      <td>1</td>\n",
       "      <td>1</td>\n",
       "      <td>1</td>\n",
       "      <td>1</td>\n",
       "      <td>1</td>\n",
       "      <td>1</td>\n",
       "      <td>0.0</td>\n",
       "      <td>0.0</td>\n",
       "      <td>0.0</td>\n",
       "      <td>0.0</td>\n",
       "    </tr>\n",
       "    <tr>\n",
       "      <th>0</th>\n",
       "      <td>17</td>\n",
       "      <td>8</td>\n",
       "      <td>8</td>\n",
       "      <td>4</td>\n",
       "      <td>4</td>\n",
       "      <td>3</td>\n",
       "      <td>2</td>\n",
       "      <td>2</td>\n",
       "      <td>2</td>\n",
       "      <td>2</td>\n",
       "      <td>2</td>\n",
       "      <td>2</td>\n",
       "      <td>2</td>\n",
       "      <td>2</td>\n",
       "      <td>2</td>\n",
       "      <td>2</td>\n",
       "      <td>2.0</td>\n",
       "      <td>2.0</td>\n",
       "      <td>2.0</td>\n",
       "      <td>2.0</td>\n",
       "    </tr>\n",
       "  </tbody>\n",
       "</table>\n",
       "</div>"
      ],
      "text/plain": [
       "   1   2   3   4   5   6   7   8   9   10  11  12  13  14  15  16   17   18  \\\n",
       "1  29   9   6   5   5   5   3   1   1   1   1   1   1   1   1   1  0.0  0.0   \n",
       "0  17   8   8   4   4   3   2   2   2   2   2   2   2   2   2   2  2.0  2.0   \n",
       "\n",
       "    19   20  \n",
       "1  0.0  0.0  \n",
       "0  2.0  2.0  "
      ]
     },
     "metadata": {},
     "output_type": "display_data"
    }
   ],
   "source": [
    "def getActualPriceChangeGreaterThanPriceRows(i):\n",
    "    return retention_data[retention_data.Actual_Change_in_Price_vs_last_Year > retention_data.Price*i];\n",
    "\n",
    "value_count_arr = pd.DataFrame();\n",
    "i = 0;\n",
    "\n",
    "while(True):\n",
    "    i += 1;\n",
    "    actual_price_change_times_i_greater_than_Price = getActualPriceChangeGreaterThanPriceRows(i);\n",
    "    if(len(actual_price_change_times_i_greater_than_Price) <=1):\n",
    "        break;\n",
    "    value_count_arr[i] = (actual_price_change_times_i_greater_than_Price.Renewed.value_counts());\n",
    "\n",
    "    \n",
    "value_count_arr.fillna(0, inplace=True)\n",
    "display(value_count_arr)\n",
    "   "
   ]
  },
  {
   "cell_type": "code",
   "execution_count": 169,
   "metadata": {},
   "outputs": [
    {
     "data": {
      "image/png": "[encoded data removed]",
      "text/plain": [
       "<Figure size 1008x360 with 1 Axes>"
      ]
     },
     "metadata": {},
     "output_type": "display_data"
    }
   ],
   "source": [
    "fig, (ax1) = plt.subplots(sharey=True, sharex=True)\n",
    "\n",
    "value_count_arr.iloc[0].plot(ax=ax1, figsize = (14,5))\n",
    "value_count_arr.iloc[1].plot(ax=ax1)\n",
    "plt.legend(['Renewed', 'Not Renewed']);\n",
    "\n",
    "plt.xlabel(\"'Actual Change in Price vs last year' as a factor of Price \");\n",
    "plt.ylabel(\"Number of observations\");\n",
    "plt.xticks(value_count_arr.columns, labels = [str(s) + 'X' for s in value_count_arr.columns]);"
   ]
  },
  {
   "cell_type": "markdown",
   "metadata": {},
   "source": [
    "<span style='color:red'>**Conclusion:** </span><br>\n",
    "<span style='color:green'>**We observe a change in renewal rate with increment in Actual change in price vs last year'.  \n",
    "<u>As the 'Actual change in price vs last year' increase more that 7.5 times, the number of policies renewed decreases.</u>**</span><br><br>"
   ]
  },
  {
   "cell_type": "markdown",
   "metadata": {},
   "source": [
    "***"
   ]
  },
  {
   "cell_type": "markdown",
   "metadata": {},
   "source": [
    "### Outlier analysis"
   ]
  },
  {
   "cell_type": "code",
   "execution_count": 170,
   "metadata": {},
   "outputs": [
    {
     "data": {
      "image/png": "[encoded data removed]",
      "text/plain": [
       "<Figure size 648x360 with 2 Axes>"
      ]
     },
     "metadata": {},
     "output_type": "display_data"
    }
   ],
   "source": [
    "fig, (ax1, ax2) = plt.subplots(ncols=2);\n",
    "plt.subplots_adjust(right= 2);\n",
    "sns.kdeplot(retention_data.Grouped_Change_in_Price, ax=ax1);\n",
    "plt.legend(loc=1, labels=['Grouped change in price']);\n",
    "sns.kdeplot(retention_data.Actual_Change_in_Price_vs_last_Year, ax=ax2);\n",
    "plt.legend(loc=1, labels=['Actual change in price']);"
   ]
  },
  {
   "cell_type": "markdown",
   "metadata": {},
   "source": [
    "Fig 1: Data is left skewed with presence of outliers.  \n",
    "Fig 2: Data contains outliers."
   ]
  },
  {
   "cell_type": "code",
   "execution_count": 171,
   "metadata": {
    "scrolled": true
   },
   "outputs": [
    {
     "data": {
      "text/html": [
       "<div>\n",
       "<style scoped>\n",
       "    .dataframe tbody tr th:only-of-type {\n",
       "        vertical-align: middle;\n",
       "    }\n",
       "\n",
       "    .dataframe tbody tr th {\n",
       "        vertical-align: top;\n",
       "    }\n",
       "\n",
       "    .dataframe thead th {\n",
       "        text-align: right;\n",
       "    }\n",
       "</style>\n",
       "<table border=\"1\" class=\"dataframe\">\n",
       "  <thead>\n",
       "    <tr style=\"text-align: right;\">\n",
       "      <th></th>\n",
       "      <th>Marital_Status</th>\n",
       "      <th>Age</th>\n",
       "      <th>Gender</th>\n",
       "      <th>Car_Value</th>\n",
       "      <th>Years_of_No_Claims_Bonus</th>\n",
       "      <th>Annual_Mileage</th>\n",
       "      <th>Payment_Method</th>\n",
       "      <th>Acquisition_Channel</th>\n",
       "      <th>Years_of_Tenure_with_Current_Provider</th>\n",
       "      <th>Price</th>\n",
       "      <th>Actual_Change_in_Price_vs_last_Year</th>\n",
       "      <th>percent_Change_in_Price_vs_last_Year</th>\n",
       "      <th>Grouped_Change_in_Price</th>\n",
       "      <th>Renewed</th>\n",
       "      <th>Age_group</th>\n",
       "    </tr>\n",
       "  </thead>\n",
       "  <tbody>\n",
       "    <tr>\n",
       "      <th>800</th>\n",
       "      <td>M</td>\n",
       "      <td>37</td>\n",
       "      <td>F</td>\n",
       "      <td>20000</td>\n",
       "      <td>8</td>\n",
       "      <td>2500</td>\n",
       "      <td>Monthly</td>\n",
       "      <td>Inbound</td>\n",
       "      <td>4</td>\n",
       "      <td>500.8</td>\n",
       "      <td>-20576.48</td>\n",
       "      <td>-98.0</td>\n",
       "      <td>-1.00</td>\n",
       "      <td>0</td>\n",
       "      <td>31 - 40</td>\n",
       "    </tr>\n",
       "    <tr>\n",
       "      <th>2246</th>\n",
       "      <td>S</td>\n",
       "      <td>25</td>\n",
       "      <td>M</td>\n",
       "      <td>2000</td>\n",
       "      <td>3</td>\n",
       "      <td>5200</td>\n",
       "      <td>Monthly</td>\n",
       "      <td>Direct</td>\n",
       "      <td>4</td>\n",
       "      <td>577.5</td>\n",
       "      <td>-7462.74</td>\n",
       "      <td>-93.0</td>\n",
       "      <td>-0.95</td>\n",
       "      <td>0</td>\n",
       "      <td>21 - 30</td>\n",
       "    </tr>\n",
       "    <tr>\n",
       "      <th>3382</th>\n",
       "      <td>M</td>\n",
       "      <td>58</td>\n",
       "      <td>F</td>\n",
       "      <td>2500</td>\n",
       "      <td>3</td>\n",
       "      <td>5000</td>\n",
       "      <td>Annual</td>\n",
       "      <td>Direct</td>\n",
       "      <td>3</td>\n",
       "      <td>203.1</td>\n",
       "      <td>-5213.77</td>\n",
       "      <td>-96.0</td>\n",
       "      <td>-0.95</td>\n",
       "      <td>1</td>\n",
       "      <td>51 - 60</td>\n",
       "    </tr>\n",
       "    <tr>\n",
       "      <th>4636</th>\n",
       "      <td>M</td>\n",
       "      <td>38</td>\n",
       "      <td>M</td>\n",
       "      <td>5400</td>\n",
       "      <td>0</td>\n",
       "      <td>2400</td>\n",
       "      <td>Monthly</td>\n",
       "      <td>Inbound</td>\n",
       "      <td>3</td>\n",
       "      <td>985.8</td>\n",
       "      <td>-7335.28</td>\n",
       "      <td>-88.0</td>\n",
       "      <td>-0.90</td>\n",
       "      <td>1</td>\n",
       "      <td>31 - 40</td>\n",
       "    </tr>\n",
       "    <tr>\n",
       "      <th>7027</th>\n",
       "      <td>M</td>\n",
       "      <td>32</td>\n",
       "      <td>M</td>\n",
       "      <td>5000</td>\n",
       "      <td>8</td>\n",
       "      <td>2000</td>\n",
       "      <td>Annual</td>\n",
       "      <td>Direct</td>\n",
       "      <td>3</td>\n",
       "      <td>316.4</td>\n",
       "      <td>-7678.24</td>\n",
       "      <td>-96.0</td>\n",
       "      <td>-0.95</td>\n",
       "      <td>1</td>\n",
       "      <td>31 - 40</td>\n",
       "    </tr>\n",
       "    <tr>\n",
       "      <th>12066</th>\n",
       "      <td>D</td>\n",
       "      <td>50</td>\n",
       "      <td>F</td>\n",
       "      <td>12000</td>\n",
       "      <td>2</td>\n",
       "      <td>10000</td>\n",
       "      <td>Monthly</td>\n",
       "      <td>Inbound</td>\n",
       "      <td>2</td>\n",
       "      <td>380.6</td>\n",
       "      <td>-7642.31</td>\n",
       "      <td>-95.0</td>\n",
       "      <td>-0.95</td>\n",
       "      <td>1</td>\n",
       "      <td>41 - 50</td>\n",
       "    </tr>\n",
       "    <tr>\n",
       "      <th>16382</th>\n",
       "      <td>S</td>\n",
       "      <td>41</td>\n",
       "      <td>M</td>\n",
       "      <td>7000</td>\n",
       "      <td>4</td>\n",
       "      <td>8000</td>\n",
       "      <td>Monthly</td>\n",
       "      <td>Inbound</td>\n",
       "      <td>2</td>\n",
       "      <td>817.7</td>\n",
       "      <td>815.86</td>\n",
       "      <td>44140.0</td>\n",
       "      <td>441.40</td>\n",
       "      <td>0</td>\n",
       "      <td>41 - 50</td>\n",
       "    </tr>\n",
       "    <tr>\n",
       "      <th>16562</th>\n",
       "      <td>S</td>\n",
       "      <td>37</td>\n",
       "      <td>M</td>\n",
       "      <td>2000</td>\n",
       "      <td>4</td>\n",
       "      <td>7999</td>\n",
       "      <td>Monthly</td>\n",
       "      <td>Direct</td>\n",
       "      <td>2</td>\n",
       "      <td>359.0</td>\n",
       "      <td>7532.56</td>\n",
       "      <td>-105.0</td>\n",
       "      <td>-1.05</td>\n",
       "      <td>0</td>\n",
       "      <td>31 - 40</td>\n",
       "    </tr>\n",
       "    <tr>\n",
       "      <th>17141</th>\n",
       "      <td>S</td>\n",
       "      <td>19</td>\n",
       "      <td>F</td>\n",
       "      <td>1001</td>\n",
       "      <td>0</td>\n",
       "      <td>7000</td>\n",
       "      <td>Annual</td>\n",
       "      <td>Inbound</td>\n",
       "      <td>2</td>\n",
       "      <td>1039.1</td>\n",
       "      <td>-6483.90</td>\n",
       "      <td>-86.0</td>\n",
       "      <td>-0.85</td>\n",
       "      <td>0</td>\n",
       "      <td>11 - 20</td>\n",
       "    </tr>\n",
       "    <tr>\n",
       "      <th>18237</th>\n",
       "      <td>M</td>\n",
       "      <td>66</td>\n",
       "      <td>M</td>\n",
       "      <td>5000</td>\n",
       "      <td>4</td>\n",
       "      <td>6999</td>\n",
       "      <td>Monthly</td>\n",
       "      <td>Direct</td>\n",
       "      <td>2</td>\n",
       "      <td>992.8</td>\n",
       "      <td>16021.14</td>\n",
       "      <td>-107.0</td>\n",
       "      <td>-1.05</td>\n",
       "      <td>1</td>\n",
       "      <td>61 - 70</td>\n",
       "    </tr>\n",
       "    <tr>\n",
       "      <th>19897</th>\n",
       "      <td>D</td>\n",
       "      <td>39</td>\n",
       "      <td>F</td>\n",
       "      <td>1500</td>\n",
       "      <td>4</td>\n",
       "      <td>8000</td>\n",
       "      <td>Monthly</td>\n",
       "      <td>Inbound</td>\n",
       "      <td>1</td>\n",
       "      <td>1433.4</td>\n",
       "      <td>36974.28</td>\n",
       "      <td>-104.0</td>\n",
       "      <td>-1.05</td>\n",
       "      <td>0</td>\n",
       "      <td>31 - 40</td>\n",
       "    </tr>\n",
       "  </tbody>\n",
       "</table>\n",
       "</div>"
      ],
      "text/plain": [
       "      Marital_Status  Age Gender  Car_Value  Years_of_No_Claims_Bonus  \\\n",
       "800                M   37      F      20000                         8   \n",
       "2246               S   25      M       2000                         3   \n",
       "3382               M   58      F       2500                         3   \n",
       "4636               M   38      M       5400                         0   \n",
       "7027               M   32      M       5000                         8   \n",
       "12066              D   50      F      12000                         2   \n",
       "16382              S   41      M       7000                         4   \n",
       "16562              S   37      M       2000                         4   \n",
       "17141              S   19      F       1001                         0   \n",
       "18237              M   66      M       5000                         4   \n",
       "19897              D   39      F       1500                         4   \n",
       "\n",
       "       Annual_Mileage Payment_Method Acquisition_Channel  \\\n",
       "800              2500        Monthly             Inbound   \n",
       "2246             5200        Monthly              Direct   \n",
       "3382             5000         Annual              Direct   \n",
       "4636             2400        Monthly             Inbound   \n",
       "7027             2000         Annual              Direct   \n",
       "12066           10000        Monthly             Inbound   \n",
       "16382            8000        Monthly             Inbound   \n",
       "16562            7999        Monthly              Direct   \n",
       "17141            7000         Annual             Inbound   \n",
       "18237            6999        Monthly              Direct   \n",
       "19897            8000        Monthly             Inbound   \n",
       "\n",
       "       Years_of_Tenure_with_Current_Provider   Price  \\\n",
       "800                                        4   500.8   \n",
       "2246                                       4   577.5   \n",
       "3382                                       3   203.1   \n",
       "4636                                       3   985.8   \n",
       "7027                                       3   316.4   \n",
       "12066                                      2   380.6   \n",
       "16382                                      2   817.7   \n",
       "16562                                      2   359.0   \n",
       "17141                                      2  1039.1   \n",
       "18237                                      2   992.8   \n",
       "19897                                      1  1433.4   \n",
       "\n",
       "       Actual_Change_in_Price_vs_last_Year  \\\n",
       "800                              -20576.48   \n",
       "2246                              -7462.74   \n",
       "3382                              -5213.77   \n",
       "4636                              -7335.28   \n",
       "7027                              -7678.24   \n",
       "12066                             -7642.31   \n",
       "16382                               815.86   \n",
       "16562                              7532.56   \n",
       "17141                             -6483.90   \n",
       "18237                             16021.14   \n",
       "19897                             36974.28   \n",
       "\n",
       "       percent_Change_in_Price_vs_last_Year  Grouped_Change_in_Price  Renewed  \\\n",
       "800                                   -98.0                    -1.00        0   \n",
       "2246                                  -93.0                    -0.95        0   \n",
       "3382                                  -96.0                    -0.95        1   \n",
       "4636                                  -88.0                    -0.90        1   \n",
       "7027                                  -96.0                    -0.95        1   \n",
       "12066                                 -95.0                    -0.95        1   \n",
       "16382                               44140.0                   441.40        0   \n",
       "16562                                -105.0                    -1.05        0   \n",
       "17141                                 -86.0                    -0.85        0   \n",
       "18237                                -107.0                    -1.05        1   \n",
       "19897                                -104.0                    -1.05        0   \n",
       "\n",
       "      Age_group  \n",
       "800     31 - 40  \n",
       "2246    21 - 30  \n",
       "3382    51 - 60  \n",
       "4636    31 - 40  \n",
       "7027    31 - 40  \n",
       "12066   41 - 50  \n",
       "16382   41 - 50  \n",
       "16562   31 - 40  \n",
       "17141   11 - 20  \n",
       "18237   61 - 70  \n",
       "19897   31 - 40  "
      ]
     },
     "execution_count": 171,
     "metadata": {},
     "output_type": "execute_result"
    }
   ],
   "source": [
    "#Remove outliers\n",
    "retention_data[(\n",
    "                   (retention_data.Grouped_Change_in_Price > 60) | \n",
    "                   (retention_data.Actual_Change_in_Price_vs_last_Year > retention_data.Price*10) | \n",
    "                   (retention_data.Actual_Change_in_Price_vs_last_Year < -5000)\n",
    "               )]"
   ]
  },
  {
   "cell_type": "code",
   "execution_count": 172,
   "metadata": {},
   "outputs": [],
   "source": [
    "# Remove outliers\n",
    "retention_data = retention_data[~(\n",
    "                   (retention_data.Grouped_Change_in_Price > 60) | \n",
    "                   (retention_data.Actual_Change_in_Price_vs_last_Year > retention_data.Price*10) | \n",
    "                   (retention_data.Actual_Change_in_Price_vs_last_Year < -(retention_data.Price*10))\n",
    "               )]"
   ]
  },
  {
   "cell_type": "code",
   "execution_count": 173,
   "metadata": {},
   "outputs": [
    {
     "data": {
      "image/png": "[encoded data removed]",
      "text/plain": [
       "<Figure size 648x360 with 2 Axes>"
      ]
     },
     "metadata": {},
     "output_type": "display_data"
    }
   ],
   "source": [
    "fig, (ax1, ax2) = plt.subplots(ncols=2);\n",
    "plt.subplots_adjust(right= 2);\n",
    "sns.kdeplot(retention_data.Grouped_Change_in_Price, ax=ax1);\n",
    "plt.legend(loc=1, labels=['Grouped change in price']);\n",
    "sns.kdeplot(retention_data.Actual_Change_in_Price_vs_last_Year, ax=ax2);\n",
    "plt.legend(loc=1, labels=['Actual change in price']);"
   ]
  },
  {
   "cell_type": "markdown",
   "metadata": {},
   "source": [
    "The data is now normalized."
   ]
  },
  {
   "cell_type": "markdown",
   "metadata": {},
   "source": [
    "***"
   ]
  },
  {
   "cell_type": "markdown",
   "metadata": {},
   "source": [
    "## Feature Selection"
   ]
  },
  {
   "cell_type": "markdown",
   "metadata": {},
   "source": [
    "Following feature will be dropped.\n",
    "\n",
    "1. Marital status - Similar Renewal rate across all statuses.  \n",
    "1. Gender - Similar Renewal rate across all genders.  \n",
    "1. Percent change is price vs last year - Perfectly correlated with 'Grouped change in Price'  \n"
   ]
  },
  {
   "cell_type": "code",
   "execution_count": 174,
   "metadata": {},
   "outputs": [],
   "source": [
    "# dropping Age-group\n",
    "retention_data.drop(columns = ['Age_group', \n",
    "                               'percent_Change_in_Price_vs_last_Year', \n",
    "                               'Marital_Status', \n",
    "                               'Gender'], \n",
    "                    inplace=True);"
   ]
  },
  {
   "cell_type": "markdown",
   "metadata": {},
   "source": [
    "***"
   ]
  },
  {
   "cell_type": "markdown",
   "metadata": {},
   "source": [
    "### Duplicate data verification"
   ]
  },
  {
   "cell_type": "code",
   "execution_count": 175,
   "metadata": {},
   "outputs": [
    {
     "name": "stdout",
     "output_type": "stream",
     "text": [
      "Duplicate row count: 0\n"
     ]
    }
   ],
   "source": [
    "print(\"Duplicate row count:\", len(retention_data[retention_data.duplicated(keep=False)==True]));"
   ]
  },
  {
   "cell_type": "markdown",
   "metadata": {},
   "source": [
    "### Data sufficiency verification"
   ]
  },
  {
   "cell_type": "code",
   "execution_count": 176,
   "metadata": {
    "scrolled": true
   },
   "outputs": [],
   "source": [
    "outcome_value_count = retention_data.Renewed.value_counts();\n",
    "least_outcome_count = outcome_value_count[0];\n",
    "\n",
    "for count in outcome_value_count:\n",
    "    if(least_outcome_count > count):\n",
    "        least_outcome_count = count\n",
    "        \n",
    "\n",
    "least_outcome_probability = least_outcome_count / outcome_value_count.sum();\n",
    "minimum_observation_count = (10*(len(retention_data.columns) - 1)) / least_outcome_probability;"
   ]
  },
  {
   "cell_type": "code",
   "execution_count": 177,
   "metadata": {},
   "outputs": [
    {
     "name": "stdout",
     "output_type": "stream",
     "text": [
      "Minimum observations required 264.110348468849\n",
      "Available data is sufficient for Logistical Regression model\n"
     ]
    }
   ],
   "source": [
    "print('Minimum observations required', minimum_observation_count);\n",
    "if(len(retention_data) > minimum_observation_count):\n",
    "    print('Available data is sufficient for Logistical Regression model')\n",
    "else:\n",
    "    print('Data not sufficient for Logistical regression model')"
   ]
  },
  {
   "cell_type": "markdown",
   "metadata": {},
   "source": [
    "***"
   ]
  },
  {
   "cell_type": "markdown",
   "metadata": {},
   "source": [
    "## One Hot Encoding"
   ]
  },
  {
   "cell_type": "code",
   "execution_count": 178,
   "metadata": {},
   "outputs": [
    {
     "data": {
      "text/html": [
       "<div>\n",
       "<style scoped>\n",
       "    .dataframe tbody tr th:only-of-type {\n",
       "        vertical-align: middle;\n",
       "    }\n",
       "\n",
       "    .dataframe tbody tr th {\n",
       "        vertical-align: top;\n",
       "    }\n",
       "\n",
       "    .dataframe thead th {\n",
       "        text-align: right;\n",
       "    }\n",
       "</style>\n",
       "<table border=\"1\" class=\"dataframe\">\n",
       "  <thead>\n",
       "    <tr style=\"text-align: right;\">\n",
       "      <th></th>\n",
       "      <th>Age</th>\n",
       "      <th>Car_Value</th>\n",
       "      <th>Years_of_No_Claims_Bonus</th>\n",
       "      <th>Annual_Mileage</th>\n",
       "      <th>Years_of_Tenure_with_Current_Provider</th>\n",
       "      <th>Price</th>\n",
       "      <th>Actual_Change_in_Price_vs_last_Year</th>\n",
       "      <th>Grouped_Change_in_Price</th>\n",
       "      <th>Renewed</th>\n",
       "      <th>Payment_Method_Annual</th>\n",
       "      <th>Payment_Method_Monthly</th>\n",
       "      <th>Acquisition_Channel_Aggreg</th>\n",
       "      <th>Acquisition_Channel_Direct</th>\n",
       "      <th>Acquisition_Channel_Inbound</th>\n",
       "      <th>Acquisition_Channel_Outbound</th>\n",
       "    </tr>\n",
       "  </thead>\n",
       "  <tbody>\n",
       "    <tr>\n",
       "      <th>0</th>\n",
       "      <td>45</td>\n",
       "      <td>500</td>\n",
       "      <td>4</td>\n",
       "      <td>6000</td>\n",
       "      <td>4</td>\n",
       "      <td>289.4</td>\n",
       "      <td>-11.94</td>\n",
       "      <td>-0.05</td>\n",
       "      <td>0</td>\n",
       "      <td>0</td>\n",
       "      <td>1</td>\n",
       "      <td>0</td>\n",
       "      <td>0</td>\n",
       "      <td>1</td>\n",
       "      <td>0</td>\n",
       "    </tr>\n",
       "    <tr>\n",
       "      <th>1</th>\n",
       "      <td>40</td>\n",
       "      <td>3000</td>\n",
       "      <td>8</td>\n",
       "      <td>6000</td>\n",
       "      <td>4</td>\n",
       "      <td>170.4</td>\n",
       "      <td>45.62</td>\n",
       "      <td>0.35</td>\n",
       "      <td>1</td>\n",
       "      <td>0</td>\n",
       "      <td>1</td>\n",
       "      <td>0</td>\n",
       "      <td>0</td>\n",
       "      <td>1</td>\n",
       "      <td>0</td>\n",
       "    </tr>\n",
       "    <tr>\n",
       "      <th>2</th>\n",
       "      <td>25</td>\n",
       "      <td>4000</td>\n",
       "      <td>4</td>\n",
       "      <td>4000</td>\n",
       "      <td>4</td>\n",
       "      <td>466.1</td>\n",
       "      <td>-123.15</td>\n",
       "      <td>-0.20</td>\n",
       "      <td>1</td>\n",
       "      <td>0</td>\n",
       "      <td>1</td>\n",
       "      <td>0</td>\n",
       "      <td>0</td>\n",
       "      <td>1</td>\n",
       "      <td>0</td>\n",
       "    </tr>\n",
       "    <tr>\n",
       "      <th>3</th>\n",
       "      <td>42</td>\n",
       "      <td>1800</td>\n",
       "      <td>9</td>\n",
       "      <td>10000</td>\n",
       "      <td>4</td>\n",
       "      <td>245.1</td>\n",
       "      <td>2.34</td>\n",
       "      <td>0.00</td>\n",
       "      <td>1</td>\n",
       "      <td>1</td>\n",
       "      <td>0</td>\n",
       "      <td>0</td>\n",
       "      <td>0</td>\n",
       "      <td>1</td>\n",
       "      <td>0</td>\n",
       "    </tr>\n",
       "    <tr>\n",
       "      <th>4</th>\n",
       "      <td>59</td>\n",
       "      <td>5000</td>\n",
       "      <td>9</td>\n",
       "      <td>3000</td>\n",
       "      <td>4</td>\n",
       "      <td>240.5</td>\n",
       "      <td>42.56</td>\n",
       "      <td>0.20</td>\n",
       "      <td>0</td>\n",
       "      <td>1</td>\n",
       "      <td>0</td>\n",
       "      <td>0</td>\n",
       "      <td>0</td>\n",
       "      <td>1</td>\n",
       "      <td>0</td>\n",
       "    </tr>\n",
       "  </tbody>\n",
       "</table>\n",
       "</div>"
      ],
      "text/plain": [
       "   Age  Car_Value  Years_of_No_Claims_Bonus  Annual_Mileage  \\\n",
       "0   45        500                         4            6000   \n",
       "1   40       3000                         8            6000   \n",
       "2   25       4000                         4            4000   \n",
       "3   42       1800                         9           10000   \n",
       "4   59       5000                         9            3000   \n",
       "\n",
       "   Years_of_Tenure_with_Current_Provider  Price  \\\n",
       "0                                      4  289.4   \n",
       "1                                      4  170.4   \n",
       "2                                      4  466.1   \n",
       "3                                      4  245.1   \n",
       "4                                      4  240.5   \n",
       "\n",
       "   Actual_Change_in_Price_vs_last_Year  Grouped_Change_in_Price  Renewed  \\\n",
       "0                               -11.94                    -0.05        0   \n",
       "1                                45.62                     0.35        1   \n",
       "2                              -123.15                    -0.20        1   \n",
       "3                                 2.34                     0.00        1   \n",
       "4                                42.56                     0.20        0   \n",
       "\n",
       "   Payment_Method_Annual  Payment_Method_Monthly  Acquisition_Channel_Aggreg  \\\n",
       "0                      0                       1                           0   \n",
       "1                      0                       1                           0   \n",
       "2                      0                       1                           0   \n",
       "3                      1                       0                           0   \n",
       "4                      1                       0                           0   \n",
       "\n",
       "   Acquisition_Channel_Direct  Acquisition_Channel_Inbound  \\\n",
       "0                           0                            1   \n",
       "1                           0                            1   \n",
       "2                           0                            1   \n",
       "3                           0                            1   \n",
       "4                           0                            1   \n",
       "\n",
       "   Acquisition_Channel_Outbound  \n",
       "0                             0  \n",
       "1                             0  \n",
       "2                             0  \n",
       "3                             0  \n",
       "4                             0  "
      ]
     },
     "execution_count": 178,
     "metadata": {},
     "output_type": "execute_result"
    }
   ],
   "source": [
    "retention_data_complete = pd.get_dummies(retention_data);\n",
    "retention_data_complete.head()"
   ]
  },
  {
   "cell_type": "markdown",
   "metadata": {},
   "source": [
    "***"
   ]
  },
  {
   "cell_type": "markdown",
   "metadata": {},
   "source": [
    "## Model creation"
   ]
  },
  {
   "cell_type": "markdown",
   "metadata": {},
   "source": [
    "### Divide data into train and test"
   ]
  },
  {
   "cell_type": "code",
   "execution_count": 179,
   "metadata": {},
   "outputs": [],
   "source": [
    "from sklearn.model_selection import train_test_split"
   ]
  },
  {
   "cell_type": "code",
   "execution_count": 198,
   "metadata": {},
   "outputs": [
    {
     "name": "stdout",
     "output_type": "stream",
     "text": [
      "Training Feature (16007, 14)\n",
      "Testing Feature (4002, 14)\n",
      "Training Predictor (16007,)\n",
      "Testing Predictor (4002,)\n"
     ]
    },
    {
     "data": {
      "text/plain": [
       "'Testing Predictor value counts'"
      ]
     },
     "metadata": {},
     "output_type": "display_data"
    },
    {
     "data": {
      "text/plain": [
       "1    2493\n",
       "0    1509\n",
       "Name: Renewed, dtype: int64"
      ]
     },
     "metadata": {},
     "output_type": "display_data"
    }
   ],
   "source": [
    "feature_train, feature_test, renewed_train, renewed_test = train_test_split(retention_data_complete.drop(columns='Renewed'), \n",
    "                                                                            retention_data_complete.Renewed, \n",
    "                                                                            train_size=0.8, \n",
    "                                                                            random_state=40, \n",
    "                                                                            shuffle=True);\n",
    "print('Training Feature', feature_train.shape);\n",
    "print('Testing Feature', feature_test.shape);\n",
    "print('Training Predictor', renewed_train.shape);\n",
    "print('Testing Predictor', renewed_test.shape);\n",
    "display('Testing Predictor value counts', renewed_test.value_counts())"
   ]
  },
  {
   "cell_type": "code",
   "execution_count": 201,
   "metadata": {},
   "outputs": [],
   "source": [
    "import sklearn # Machine Learning in Python: https://scikit-learn.org/\n",
    "from sklearn import metrics \n",
    "from sklearn.metrics import confusion_matrix, accuracy_score, precision_score, f1_score, recall_score\n",
    "from sklearn.utils.multiclass import unique_labels\n",
    "from sklearn.model_selection import train_test_split\n",
    "from sklearn.feature_selection import RFE\n",
    "from sklearn.linear_model import LogisticRegression"
   ]
  },
  {
   "cell_type": "code",
   "execution_count": 182,
   "metadata": {},
   "outputs": [
    {
     "data": {
      "text/plain": [
       "LogisticRegression(C=1.0, class_weight=None, dual=False, fit_intercept=True,\n",
       "          intercept_scaling=1, max_iter=100, multi_class='warn',\n",
       "          n_jobs=None, penalty='l2', random_state=None, solver='warn',\n",
       "          tol=0.0001, verbose=0, warm_start=False)"
      ]
     },
     "execution_count": 182,
     "metadata": {},
     "output_type": "execute_result"
    }
   ],
   "source": [
    "lr_model = LogisticRegression()\n",
    "lr_model.fit(feature_train, renewed_train)"
   ]
  },
  {
   "cell_type": "code",
   "execution_count": 183,
   "metadata": {},
   "outputs": [],
   "source": [
    "predict_proba = lr_model.predict_proba(feature_test)\n",
    "predictions = lr_model.predict(feature_test)"
   ]
  },
  {
   "cell_type": "code",
   "execution_count": 200,
   "metadata": {},
   "outputs": [
    {
     "data": {
      "text/html": [
       "<div>\n",
       "<style scoped>\n",
       "    .dataframe tbody tr th:only-of-type {\n",
       "        vertical-align: middle;\n",
       "    }\n",
       "\n",
       "    .dataframe tbody tr th {\n",
       "        vertical-align: top;\n",
       "    }\n",
       "\n",
       "    .dataframe thead th {\n",
       "        text-align: right;\n",
       "    }\n",
       "</style>\n",
       "<table border=\"1\" class=\"dataframe\">\n",
       "  <thead>\n",
       "    <tr style=\"text-align: right;\">\n",
       "      <th></th>\n",
       "      <th>Predicted Not Renewed</th>\n",
       "      <th>Predicted Renewed</th>\n",
       "    </tr>\n",
       "  </thead>\n",
       "  <tbody>\n",
       "    <tr>\n",
       "      <th>Actual Not Renewed</th>\n",
       "      <td>451</td>\n",
       "      <td>1058</td>\n",
       "    </tr>\n",
       "    <tr>\n",
       "      <th>Actual Renewed</th>\n",
       "      <td>233</td>\n",
       "      <td>2260</td>\n",
       "    </tr>\n",
       "  </tbody>\n",
       "</table>\n",
       "</div>"
      ],
      "text/plain": [
       "                    Predicted Not Renewed  Predicted Renewed\n",
       "Actual Not Renewed                    451               1058\n",
       "Actual Renewed                        233               2260"
      ]
     },
     "execution_count": 200,
     "metadata": {},
     "output_type": "execute_result"
    }
   ],
   "source": [
    "pd.DataFrame(confusion_matrix(y_true = renewed_test, y_pred = predictions), columns=['Predicted Not Renewed', 'Predicted Renewed'],\n",
    "            index=['Actual Not Renewed', 'Actual Renewed'])"
   ]
  },
  {
   "cell_type": "code",
   "execution_count": 202,
   "metadata": {},
   "outputs": [
    {
     "name": "stdout",
     "output_type": "stream",
     "text": [
      "Accurary:  0.6774112943528235\n",
      "Recall:  0.9065383072603289\n",
      "Precision:  0.6811332127787824\n",
      "f1-score:  0.7778351402512477\n"
     ]
    }
   ],
   "source": [
    "print('Accurary: ', accuracy_score(y_true = renewed_test, y_pred = predictions));\n",
    "print('Recall: ', recall_score(y_true = renewed_test, y_pred = predictions));\n",
    "print('Precision: ', precision_score(y_true = renewed_test, y_pred = predictions));\n",
    "print('f1-score: ', f1_score(y_true = renewed_test, y_pred = predictions));"
   ]
  },
  {
   "cell_type": "code",
   "execution_count": 204,
   "metadata": {},
   "outputs": [],
   "source": [
    "rfe = RFE(lr_model, verbose=1)"
   ]
  },
  {
   "cell_type": "code",
   "execution_count": 205,
   "metadata": {},
   "outputs": [
    {
     "name": "stdout",
     "output_type": "stream",
     "text": [
      "Fitting estimator with 14 features.\n",
      "Fitting estimator with 13 features.\n",
      "Fitting estimator with 12 features.\n",
      "Fitting estimator with 11 features.\n",
      "Fitting estimator with 10 features.\n",
      "Fitting estimator with 9 features.\n",
      "Fitting estimator with 8 features.\n"
     ]
    },
    {
     "data": {
      "text/html": [
       "<div>\n",
       "<style scoped>\n",
       "    .dataframe tbody tr th:only-of-type {\n",
       "        vertical-align: middle;\n",
       "    }\n",
       "\n",
       "    .dataframe tbody tr th {\n",
       "        vertical-align: top;\n",
       "    }\n",
       "\n",
       "    .dataframe thead th {\n",
       "        text-align: right;\n",
       "    }\n",
       "</style>\n",
       "<table border=\"1\" class=\"dataframe\">\n",
       "  <thead>\n",
       "    <tr style=\"text-align: right;\">\n",
       "      <th></th>\n",
       "      <th>Features</th>\n",
       "      <th>Ranking</th>\n",
       "    </tr>\n",
       "  </thead>\n",
       "  <tbody>\n",
       "    <tr>\n",
       "      <th>4</th>\n",
       "      <td>Years_of_Tenure_with_Current_Provider</td>\n",
       "      <td>1</td>\n",
       "    </tr>\n",
       "    <tr>\n",
       "      <th>7</th>\n",
       "      <td>Grouped_Change_in_Price</td>\n",
       "      <td>1</td>\n",
       "    </tr>\n",
       "    <tr>\n",
       "      <th>8</th>\n",
       "      <td>Payment_Method_Annual</td>\n",
       "      <td>1</td>\n",
       "    </tr>\n",
       "    <tr>\n",
       "      <th>9</th>\n",
       "      <td>Payment_Method_Monthly</td>\n",
       "      <td>1</td>\n",
       "    </tr>\n",
       "    <tr>\n",
       "      <th>11</th>\n",
       "      <td>Acquisition_Channel_Direct</td>\n",
       "      <td>1</td>\n",
       "    </tr>\n",
       "    <tr>\n",
       "      <th>12</th>\n",
       "      <td>Acquisition_Channel_Inbound</td>\n",
       "      <td>1</td>\n",
       "    </tr>\n",
       "    <tr>\n",
       "      <th>13</th>\n",
       "      <td>Acquisition_Channel_Outbound</td>\n",
       "      <td>1</td>\n",
       "    </tr>\n",
       "    <tr>\n",
       "      <th>2</th>\n",
       "      <td>Years_of_No_Claims_Bonus</td>\n",
       "      <td>2</td>\n",
       "    </tr>\n",
       "    <tr>\n",
       "      <th>0</th>\n",
       "      <td>Age</td>\n",
       "      <td>3</td>\n",
       "    </tr>\n",
       "    <tr>\n",
       "      <th>10</th>\n",
       "      <td>Acquisition_Channel_Aggreg</td>\n",
       "      <td>4</td>\n",
       "    </tr>\n",
       "    <tr>\n",
       "      <th>5</th>\n",
       "      <td>Price</td>\n",
       "      <td>5</td>\n",
       "    </tr>\n",
       "    <tr>\n",
       "      <th>6</th>\n",
       "      <td>Actual_Change_in_Price_vs_last_Year</td>\n",
       "      <td>6</td>\n",
       "    </tr>\n",
       "    <tr>\n",
       "      <th>1</th>\n",
       "      <td>Car_Value</td>\n",
       "      <td>7</td>\n",
       "    </tr>\n",
       "    <tr>\n",
       "      <th>3</th>\n",
       "      <td>Annual_Mileage</td>\n",
       "      <td>8</td>\n",
       "    </tr>\n",
       "  </tbody>\n",
       "</table>\n",
       "</div>"
      ],
      "text/plain": [
       "                                 Features  Ranking\n",
       "4   Years_of_Tenure_with_Current_Provider        1\n",
       "7                 Grouped_Change_in_Price        1\n",
       "8                   Payment_Method_Annual        1\n",
       "9                  Payment_Method_Monthly        1\n",
       "11             Acquisition_Channel_Direct        1\n",
       "12            Acquisition_Channel_Inbound        1\n",
       "13           Acquisition_Channel_Outbound        1\n",
       "2                Years_of_No_Claims_Bonus        2\n",
       "0                                     Age        3\n",
       "10             Acquisition_Channel_Aggreg        4\n",
       "5                                   Price        5\n",
       "6     Actual_Change_in_Price_vs_last_Year        6\n",
       "1                               Car_Value        7\n",
       "3                          Annual_Mileage        8"
      ]
     },
     "metadata": {},
     "output_type": "display_data"
    }
   ],
   "source": [
    "rfe.fit(feature_train, renewed_train)\n",
    "select_features_df_rfe = pd.DataFrame({'Features' : list(feature_train.columns), 'Ranking': rfe.ranking_});\n",
    "display(select_features_df_rfe.sort_values(by='Ranking'));"
   ]
  },
  {
   "cell_type": "markdown",
   "metadata": {},
   "source": [
    "ROC Curve"
   ]
  },
  {
   "cell_type": "markdown",
   "metadata": {},
   "source": [
    "**estimate renewal rate with number of years with company**"
   ]
  },
  {
   "cell_type": "code",
   "execution_count": null,
   "metadata": {},
   "outputs": [],
   "source": []
  }
 ],
 "metadata": {
  "kernelspec": {
   "display_name": "Python 3",
   "language": "python",
   "name": "python3"
  },
  "language_info": {
   "codemirror_mode": {
    "name": "ipython",
    "version": 3
   },
   "file_extension": ".py",
   "mimetype": "text/x-python",
   "name": "python",
   "nbconvert_exporter": "python",
   "pygments_lexer": "ipython3",
   "version": "3.7.3"
  }
 },
 "nbformat": 4,
 "nbformat_minor": 2
}
