{
 "cells": [
  {
   "cell_type": "code",
   "execution_count": 1,
   "metadata": {},
   "outputs": [],
   "source": [
    "import pandas as pd\n",
    "import numpy as np\n",
    "import seaborn as sns\n",
    "import matplotlib.pyplot as plt\n",
    "\n",
    "import warnings\n",
    "warnings.filterwarnings('ignore')\n",
    "\n",
    "import pandas_profiling as pp"
   ]
  },
  {
   "cell_type": "code",
   "execution_count": 2,
   "metadata": {},
   "outputs": [],
   "source": [
    "def hash_value_mapper(value):\n",
    "    if(value == '#VALUE!'):\n",
    "       return 'NaN';\n",
    "    elif(value[-1] == '%'):\n",
    "       return float(value[:-1]);\n",
    "    return float(value);\n",
    "\n",
    "def string_to_int_mapper(value):\n",
    "    return int(value);"
   ]
  },
  {
   "cell_type": "code",
   "execution_count": 3,
   "metadata": {},
   "outputs": [],
   "source": [
    "retention_data = pd.read_csv('./data/retention/insurance_cust_retention.csv',\n",
    "                             converters = {'Actual Change in Price vs last Year': hash_value_mapper,\n",
    "                                          '% Change in Price vs last Year': hash_value_mapper,\n",
    "                                          'Grouped Change in Price': hash_value_mapper,\n",
    "                                          'Years of Tenure with Current Provider': string_to_int_mapper}\n",
    "                            );\n",
    "retention_data.rename(columns = {'Marital Status':'Marital_Status', 'Car Value':'Car_Value', 'AGE':'Age',\n",
    "                                 'Years of No Claims Bonus':'Years_of_No_Claims_Bonus', \n",
    "                                 'Annual Mileage':'Annual_Mileage', 'Payment Method':'Payment_Method', \n",
    "                                 'Acquisition Channel':'Acquisition_Channel', \n",
    "                                 'Years of Tenure with Current Provider':'Years_of_Tenure_with_Current_Provider',\n",
    "                                 'Actual Change in Price vs last Year':'Actual_Change_in_Price_vs_last_Year',\n",
    "                                 '% Change in Price vs last Year':'percent_Change_in_Price_vs_last_Year',\n",
    "                                 'Grouped Change in Price':'Grouped_Change_in_Price', 'Renewed?':'Renewed'},\n",
    "                     inplace=True);"
   ]
  },
  {
   "cell_type": "markdown",
   "metadata": {},
   "source": [
    "<span style='color:blue'>**Cast columns to floating point numbers**</span>"
   ]
  },
  {
   "cell_type": "code",
   "execution_count": 4,
   "metadata": {},
   "outputs": [],
   "source": [
    "retention_data.Actual_Change_in_Price_vs_last_Year = retention_data.Actual_Change_in_Price_vs_last_Year.astype('float64');\n",
    "retention_data.percent_Change_in_Price_vs_last_Year = retention_data.percent_Change_in_Price_vs_last_Year.astype('float64');\n",
    "retention_data.Grouped_Change_in_Price = retention_data.Grouped_Change_in_Price.astype('float64');"
   ]
  },
  {
   "cell_type": "code",
   "execution_count": 5,
   "metadata": {},
   "outputs": [
    {
     "data": {
      "text/html": [
       "<div>\n",
       "<style scoped>\n",
       "    .dataframe tbody tr th:only-of-type {\n",
       "        vertical-align: middle;\n",
       "    }\n",
       "\n",
       "    .dataframe tbody tr th {\n",
       "        vertical-align: top;\n",
       "    }\n",
       "\n",
       "    .dataframe thead th {\n",
       "        text-align: right;\n",
       "    }\n",
       "</style>\n",
       "<table border=\"1\" class=\"dataframe\">\n",
       "  <thead>\n",
       "    <tr style=\"text-align: right;\">\n",
       "      <th></th>\n",
       "      <th>Marital_Status</th>\n",
       "      <th>Age</th>\n",
       "      <th>Gender</th>\n",
       "      <th>Car_Value</th>\n",
       "      <th>Years_of_No_Claims_Bonus</th>\n",
       "      <th>Annual_Mileage</th>\n",
       "      <th>Payment_Method</th>\n",
       "      <th>Acquisition_Channel</th>\n",
       "      <th>Years_of_Tenure_with_Current_Provider</th>\n",
       "      <th>Price</th>\n",
       "      <th>Actual_Change_in_Price_vs_last_Year</th>\n",
       "      <th>percent_Change_in_Price_vs_last_Year</th>\n",
       "      <th>Grouped_Change_in_Price</th>\n",
       "      <th>Renewed</th>\n",
       "    </tr>\n",
       "  </thead>\n",
       "  <tbody>\n",
       "    <tr>\n",
       "      <th>0</th>\n",
       "      <td>M</td>\n",
       "      <td>45</td>\n",
       "      <td>F</td>\n",
       "      <td>500</td>\n",
       "      <td>4</td>\n",
       "      <td>6000</td>\n",
       "      <td>Monthly</td>\n",
       "      <td>Inbound</td>\n",
       "      <td>4</td>\n",
       "      <td>289.4</td>\n",
       "      <td>-11.94</td>\n",
       "      <td>-3.96</td>\n",
       "      <td>-0.05</td>\n",
       "      <td>0</td>\n",
       "    </tr>\n",
       "    <tr>\n",
       "      <th>1</th>\n",
       "      <td>M</td>\n",
       "      <td>40</td>\n",
       "      <td>M</td>\n",
       "      <td>3000</td>\n",
       "      <td>8</td>\n",
       "      <td>6000</td>\n",
       "      <td>Monthly</td>\n",
       "      <td>Inbound</td>\n",
       "      <td>4</td>\n",
       "      <td>170.4</td>\n",
       "      <td>45.62</td>\n",
       "      <td>37.00</td>\n",
       "      <td>0.35</td>\n",
       "      <td>1</td>\n",
       "    </tr>\n",
       "    <tr>\n",
       "      <th>2</th>\n",
       "      <td>S</td>\n",
       "      <td>25</td>\n",
       "      <td>F</td>\n",
       "      <td>4000</td>\n",
       "      <td>4</td>\n",
       "      <td>4000</td>\n",
       "      <td>Monthly</td>\n",
       "      <td>Inbound</td>\n",
       "      <td>4</td>\n",
       "      <td>466.1</td>\n",
       "      <td>-123.15</td>\n",
       "      <td>-21.00</td>\n",
       "      <td>-0.20</td>\n",
       "      <td>1</td>\n",
       "    </tr>\n",
       "    <tr>\n",
       "      <th>3</th>\n",
       "      <td>M</td>\n",
       "      <td>42</td>\n",
       "      <td>M</td>\n",
       "      <td>1800</td>\n",
       "      <td>9</td>\n",
       "      <td>10000</td>\n",
       "      <td>Annual</td>\n",
       "      <td>Inbound</td>\n",
       "      <td>4</td>\n",
       "      <td>245.1</td>\n",
       "      <td>2.34</td>\n",
       "      <td>1.00</td>\n",
       "      <td>0.00</td>\n",
       "      <td>1</td>\n",
       "    </tr>\n",
       "    <tr>\n",
       "      <th>4</th>\n",
       "      <td>M</td>\n",
       "      <td>59</td>\n",
       "      <td>M</td>\n",
       "      <td>5000</td>\n",
       "      <td>9</td>\n",
       "      <td>3000</td>\n",
       "      <td>Annual</td>\n",
       "      <td>Inbound</td>\n",
       "      <td>4</td>\n",
       "      <td>240.5</td>\n",
       "      <td>42.56</td>\n",
       "      <td>22.00</td>\n",
       "      <td>0.20</td>\n",
       "      <td>0</td>\n",
       "    </tr>\n",
       "  </tbody>\n",
       "</table>\n",
       "</div>"
      ],
      "text/plain": [
       "  Marital_Status  Age Gender  Car_Value  Years_of_No_Claims_Bonus  \\\n",
       "0              M   45      F        500                         4   \n",
       "1              M   40      M       3000                         8   \n",
       "2              S   25      F       4000                         4   \n",
       "3              M   42      M       1800                         9   \n",
       "4              M   59      M       5000                         9   \n",
       "\n",
       "   Annual_Mileage Payment_Method Acquisition_Channel  \\\n",
       "0            6000        Monthly             Inbound   \n",
       "1            6000        Monthly             Inbound   \n",
       "2            4000        Monthly             Inbound   \n",
       "3           10000         Annual             Inbound   \n",
       "4            3000         Annual             Inbound   \n",
       "\n",
       "   Years_of_Tenure_with_Current_Provider  Price  \\\n",
       "0                                      4  289.4   \n",
       "1                                      4  170.4   \n",
       "2                                      4  466.1   \n",
       "3                                      4  245.1   \n",
       "4                                      4  240.5   \n",
       "\n",
       "   Actual_Change_in_Price_vs_last_Year  percent_Change_in_Price_vs_last_Year  \\\n",
       "0                               -11.94                                 -3.96   \n",
       "1                                45.62                                 37.00   \n",
       "2                              -123.15                                -21.00   \n",
       "3                                 2.34                                  1.00   \n",
       "4                                42.56                                 22.00   \n",
       "\n",
       "   Grouped_Change_in_Price  Renewed  \n",
       "0                    -0.05        0  \n",
       "1                     0.35        1  \n",
       "2                    -0.20        1  \n",
       "3                     0.00        1  \n",
       "4                     0.20        0  "
      ]
     },
     "execution_count": 5,
     "metadata": {},
     "output_type": "execute_result"
    }
   ],
   "source": [
    "retention_data.head()"
   ]
  },
  {
   "cell_type": "code",
   "execution_count": 6,
   "metadata": {},
   "outputs": [
    {
     "name": "stdout",
     "output_type": "stream",
     "text": [
      "<class 'pandas.core.frame.DataFrame'>\n",
      "RangeIndex: 20020 entries, 0 to 20019\n",
      "Data columns (total 14 columns):\n",
      "Marital_Status                           20020 non-null object\n",
      "Age                                      20020 non-null int64\n",
      "Gender                                   20020 non-null object\n",
      "Car_Value                                20020 non-null int64\n",
      "Years_of_No_Claims_Bonus                 20020 non-null int64\n",
      "Annual_Mileage                           20020 non-null int64\n",
      "Payment_Method                           20020 non-null object\n",
      "Acquisition_Channel                      20020 non-null object\n",
      "Years_of_Tenure_with_Current_Provider    20020 non-null int64\n",
      "Price                                    20017 non-null float64\n",
      "Actual_Change_in_Price_vs_last_Year      20017 non-null float64\n",
      "percent_Change_in_Price_vs_last_Year     20017 non-null float64\n",
      "Grouped_Change_in_Price                  20017 non-null float64\n",
      "Renewed                                  20020 non-null int64\n",
      "dtypes: float64(4), int64(6), object(4)\n",
      "memory usage: 2.1+ MB\n"
     ]
    }
   ],
   "source": [
    "retention_data.info()"
   ]
  },
  {
   "cell_type": "markdown",
   "metadata": {},
   "source": [
    "***"
   ]
  },
  {
   "cell_type": "markdown",
   "metadata": {},
   "source": [
    "## Missing value treatment"
   ]
  },
  {
   "cell_type": "code",
   "execution_count": 6,
   "metadata": {},
   "outputs": [],
   "source": [
    "#replace NaN with mean\n",
    "retention_data.Actual_Change_in_Price_vs_last_Year.fillna(value = retention_data.Actual_Change_in_Price_vs_last_Year.mean(), \n",
    "                                                          inplace=True);\n",
    "retention_data.Grouped_Change_in_Price.fillna(value = retention_data.Grouped_Change_in_Price.mean(), \n",
    "                            inplace=True);\n",
    "retention_data.percent_Change_in_Price_vs_last_Year.fillna(value = retention_data.percent_Change_in_Price_vs_last_Year.mean(), \n",
    "                            inplace=True);\n",
    "retention_data.Price.fillna(value = retention_data.Price.mean(), \n",
    "                            inplace=True)"
   ]
  },
  {
   "cell_type": "markdown",
   "metadata": {},
   "source": [
    "***"
   ]
  },
  {
   "cell_type": "markdown",
   "metadata": {},
   "source": [
    "## Split data into numerical and categorical features"
   ]
  },
  {
   "cell_type": "code",
   "execution_count": 7,
   "metadata": {},
   "outputs": [],
   "source": [
    "retention_numerical = retention_data.select_dtypes(['int64', 'float64']);\n",
    "retention_categorical = retention_data.select_dtypes(['object']);"
   ]
  },
  {
   "cell_type": "code",
   "execution_count": 8,
   "metadata": {},
   "outputs": [
    {
     "data": {
      "text/html": [
       "<div>\n",
       "<style scoped>\n",
       "    .dataframe tbody tr th:only-of-type {\n",
       "        vertical-align: middle;\n",
       "    }\n",
       "\n",
       "    .dataframe tbody tr th {\n",
       "        vertical-align: top;\n",
       "    }\n",
       "\n",
       "    .dataframe thead th {\n",
       "        text-align: right;\n",
       "    }\n",
       "</style>\n",
       "<table border=\"1\" class=\"dataframe\">\n",
       "  <thead>\n",
       "    <tr style=\"text-align: right;\">\n",
       "      <th></th>\n",
       "      <th>Marital_Status</th>\n",
       "      <th>Gender</th>\n",
       "      <th>Payment_Method</th>\n",
       "      <th>Acquisition_Channel</th>\n",
       "    </tr>\n",
       "  </thead>\n",
       "  <tbody>\n",
       "    <tr>\n",
       "      <th>0</th>\n",
       "      <td>M</td>\n",
       "      <td>F</td>\n",
       "      <td>Monthly</td>\n",
       "      <td>Inbound</td>\n",
       "    </tr>\n",
       "    <tr>\n",
       "      <th>1</th>\n",
       "      <td>M</td>\n",
       "      <td>M</td>\n",
       "      <td>Monthly</td>\n",
       "      <td>Inbound</td>\n",
       "    </tr>\n",
       "    <tr>\n",
       "      <th>2</th>\n",
       "      <td>S</td>\n",
       "      <td>F</td>\n",
       "      <td>Monthly</td>\n",
       "      <td>Inbound</td>\n",
       "    </tr>\n",
       "    <tr>\n",
       "      <th>3</th>\n",
       "      <td>M</td>\n",
       "      <td>M</td>\n",
       "      <td>Annual</td>\n",
       "      <td>Inbound</td>\n",
       "    </tr>\n",
       "    <tr>\n",
       "      <th>4</th>\n",
       "      <td>M</td>\n",
       "      <td>M</td>\n",
       "      <td>Annual</td>\n",
       "      <td>Inbound</td>\n",
       "    </tr>\n",
       "  </tbody>\n",
       "</table>\n",
       "</div>"
      ],
      "text/plain": [
       "  Marital_Status Gender Payment_Method Acquisition_Channel\n",
       "0              M      F        Monthly             Inbound\n",
       "1              M      M        Monthly             Inbound\n",
       "2              S      F        Monthly             Inbound\n",
       "3              M      M         Annual             Inbound\n",
       "4              M      M         Annual             Inbound"
      ]
     },
     "execution_count": 8,
     "metadata": {},
     "output_type": "execute_result"
    }
   ],
   "source": [
    "retention_categorical.head()"
   ]
  },
  {
   "cell_type": "markdown",
   "metadata": {},
   "source": [
    "### Process numerical features"
   ]
  },
  {
   "cell_type": "code",
   "execution_count": 10,
   "metadata": {},
   "outputs": [
    {
     "data": {
      "text/html": [
       "<div>\n",
       "<style scoped>\n",
       "    .dataframe tbody tr th:only-of-type {\n",
       "        vertical-align: middle;\n",
       "    }\n",
       "\n",
       "    .dataframe tbody tr th {\n",
       "        vertical-align: top;\n",
       "    }\n",
       "\n",
       "    .dataframe thead th {\n",
       "        text-align: right;\n",
       "    }\n",
       "</style>\n",
       "<table border=\"1\" class=\"dataframe\">\n",
       "  <thead>\n",
       "    <tr style=\"text-align: right;\">\n",
       "      <th></th>\n",
       "      <th>count</th>\n",
       "      <th>mean</th>\n",
       "      <th>std</th>\n",
       "      <th>min</th>\n",
       "      <th>25%</th>\n",
       "      <th>50%</th>\n",
       "      <th>75%</th>\n",
       "      <th>max</th>\n",
       "    </tr>\n",
       "  </thead>\n",
       "  <tbody>\n",
       "    <tr>\n",
       "      <th>Age</th>\n",
       "      <td>20020.0</td>\n",
       "      <td>44.744555</td>\n",
       "      <td>12.680561</td>\n",
       "      <td>17.00</td>\n",
       "      <td>36.00</td>\n",
       "      <td>44.000</td>\n",
       "      <td>52.0000</td>\n",
       "      <td>89.00</td>\n",
       "    </tr>\n",
       "    <tr>\n",
       "      <th>Car_Value</th>\n",
       "      <td>20020.0</td>\n",
       "      <td>3686.924126</td>\n",
       "      <td>3981.033913</td>\n",
       "      <td>0.00</td>\n",
       "      <td>1000.00</td>\n",
       "      <td>2500.000</td>\n",
       "      <td>5000.0000</td>\n",
       "      <td>60000.00</td>\n",
       "    </tr>\n",
       "    <tr>\n",
       "      <th>Years_of_No_Claims_Bonus</th>\n",
       "      <td>20020.0</td>\n",
       "      <td>5.757143</td>\n",
       "      <td>2.894185</td>\n",
       "      <td>0.00</td>\n",
       "      <td>3.00</td>\n",
       "      <td>6.000</td>\n",
       "      <td>9.0000</td>\n",
       "      <td>9.00</td>\n",
       "    </tr>\n",
       "    <tr>\n",
       "      <th>Annual_Mileage</th>\n",
       "      <td>20020.0</td>\n",
       "      <td>6528.061239</td>\n",
       "      <td>3585.303675</td>\n",
       "      <td>1.00</td>\n",
       "      <td>4000.00</td>\n",
       "      <td>5200.000</td>\n",
       "      <td>9000.0000</td>\n",
       "      <td>70000.00</td>\n",
       "    </tr>\n",
       "    <tr>\n",
       "      <th>Years_of_Tenure_with_Current_Provider</th>\n",
       "      <td>20020.0</td>\n",
       "      <td>2.479620</td>\n",
       "      <td>0.853137</td>\n",
       "      <td>1.00</td>\n",
       "      <td>2.00</td>\n",
       "      <td>2.000</td>\n",
       "      <td>3.0000</td>\n",
       "      <td>4.00</td>\n",
       "    </tr>\n",
       "    <tr>\n",
       "      <th>Price</th>\n",
       "      <td>20020.0</td>\n",
       "      <td>422.485702</td>\n",
       "      <td>262.405063</td>\n",
       "      <td>96.00</td>\n",
       "      <td>264.20</td>\n",
       "      <td>357.300</td>\n",
       "      <td>501.6250</td>\n",
       "      <td>4449.90</td>\n",
       "    </tr>\n",
       "    <tr>\n",
       "      <th>Actual_Change_in_Price_vs_last_Year</th>\n",
       "      <td>20020.0</td>\n",
       "      <td>16.630885</td>\n",
       "      <td>411.036698</td>\n",
       "      <td>-20576.48</td>\n",
       "      <td>-21.89</td>\n",
       "      <td>15.555</td>\n",
       "      <td>58.8325</td>\n",
       "      <td>36974.28</td>\n",
       "    </tr>\n",
       "    <tr>\n",
       "      <th>percent_Change_in_Price_vs_last_Year</th>\n",
       "      <td>20020.0</td>\n",
       "      <td>12.208675</td>\n",
       "      <td>320.482642</td>\n",
       "      <td>-3866.00</td>\n",
       "      <td>-6.00</td>\n",
       "      <td>5.000</td>\n",
       "      <td>21.0000</td>\n",
       "      <td>44140.00</td>\n",
       "    </tr>\n",
       "    <tr>\n",
       "      <th>Grouped_Change_in_Price</th>\n",
       "      <td>20020.0</td>\n",
       "      <td>0.121934</td>\n",
       "      <td>3.204866</td>\n",
       "      <td>-38.65</td>\n",
       "      <td>-0.05</td>\n",
       "      <td>0.050</td>\n",
       "      <td>0.2000</td>\n",
       "      <td>441.40</td>\n",
       "    </tr>\n",
       "    <tr>\n",
       "      <th>Renewed</th>\n",
       "      <td>20020.0</td>\n",
       "      <td>0.621329</td>\n",
       "      <td>0.485068</td>\n",
       "      <td>0.00</td>\n",
       "      <td>0.00</td>\n",
       "      <td>1.000</td>\n",
       "      <td>1.0000</td>\n",
       "      <td>1.00</td>\n",
       "    </tr>\n",
       "  </tbody>\n",
       "</table>\n",
       "</div>"
      ],
      "text/plain": [
       "                                         count         mean          std  \\\n",
       "Age                                    20020.0    44.744555    12.680561   \n",
       "Car_Value                              20020.0  3686.924126  3981.033913   \n",
       "Years_of_No_Claims_Bonus               20020.0     5.757143     2.894185   \n",
       "Annual_Mileage                         20020.0  6528.061239  3585.303675   \n",
       "Years_of_Tenure_with_Current_Provider  20020.0     2.479620     0.853137   \n",
       "Price                                  20020.0   422.485702   262.405063   \n",
       "Actual_Change_in_Price_vs_last_Year    20020.0    16.630885   411.036698   \n",
       "percent_Change_in_Price_vs_last_Year   20020.0    12.208675   320.482642   \n",
       "Grouped_Change_in_Price                20020.0     0.121934     3.204866   \n",
       "Renewed                                20020.0     0.621329     0.485068   \n",
       "\n",
       "                                            min      25%       50%        75%  \\\n",
       "Age                                       17.00    36.00    44.000    52.0000   \n",
       "Car_Value                                  0.00  1000.00  2500.000  5000.0000   \n",
       "Years_of_No_Claims_Bonus                   0.00     3.00     6.000     9.0000   \n",
       "Annual_Mileage                             1.00  4000.00  5200.000  9000.0000   \n",
       "Years_of_Tenure_with_Current_Provider      1.00     2.00     2.000     3.0000   \n",
       "Price                                     96.00   264.20   357.300   501.6250   \n",
       "Actual_Change_in_Price_vs_last_Year   -20576.48   -21.89    15.555    58.8325   \n",
       "percent_Change_in_Price_vs_last_Year   -3866.00    -6.00     5.000    21.0000   \n",
       "Grouped_Change_in_Price                  -38.65    -0.05     0.050     0.2000   \n",
       "Renewed                                    0.00     0.00     1.000     1.0000   \n",
       "\n",
       "                                            max  \n",
       "Age                                       89.00  \n",
       "Car_Value                              60000.00  \n",
       "Years_of_No_Claims_Bonus                   9.00  \n",
       "Annual_Mileage                         70000.00  \n",
       "Years_of_Tenure_with_Current_Provider      4.00  \n",
       "Price                                   4449.90  \n",
       "Actual_Change_in_Price_vs_last_Year    36974.28  \n",
       "percent_Change_in_Price_vs_last_Year   44140.00  \n",
       "Grouped_Change_in_Price                  441.40  \n",
       "Renewed                                    1.00  "
      ]
     },
     "execution_count": 10,
     "metadata": {},
     "output_type": "execute_result"
    }
   ],
   "source": [
    "retention_numerical.describe().T"
   ]
  },
  {
   "cell_type": "code",
   "execution_count": 12,
   "metadata": {},
   "outputs": [
    {
     "data": {
      "image/png": "[encoded data removed]",
      "text/plain": [
       "<Figure size 432x288 with 2 Axes>"
      ]
     },
     "metadata": {
      "needs_background": "light"
     },
     "output_type": "display_data"
    }
   ],
   "source": [
    "sns.heatmap(retention_numerical.corr(), annot=True);"
   ]
  },
  {
   "cell_type": "markdown",
   "metadata": {},
   "source": [
    "<span style='color:red'>We observe high correlation between __percent_Change_in_Price_vs_last_Year__ and __Grouped_Change_in_Price__. We will drop __percent_Change_in_Price_vs_last_Year__ from retention_numerical.</span>"
   ]
  },
  {
   "cell_type": "code",
   "execution_count": 13,
   "metadata": {},
   "outputs": [],
   "source": [
    "retention_numerical.drop(columns = 'percent_Change_in_Price_vs_last_Year', inplace=True);\n",
    "retention_data.drop(columns = 'percent_Change_in_Price_vs_last_Year', inplace=True);"
   ]
  },
  {
   "cell_type": "markdown",
   "metadata": {},
   "source": [
    "***"
   ]
  },
  {
   "cell_type": "markdown",
   "metadata": {},
   "source": [
    "***"
   ]
  },
  {
   "cell_type": "markdown",
   "metadata": {},
   "source": [
    "## Exploration"
   ]
  },
  {
   "cell_type": "code",
   "execution_count": 14,
   "metadata": {},
   "outputs": [],
   "source": [
    "# for (Marital_Status, Gender), sub_df in retention_categorical.groupby(['Marital_Status', 'Gender']):\n",
    "#     print('Population: {0}, \\t\\t Marital Status: {1}, \\t\\t Gender: {2}'.format(sub_df.Gender.count(), Marital_Status, Gender));"
   ]
  },
  {
   "cell_type": "code",
   "execution_count": 15,
   "metadata": {},
   "outputs": [
    {
     "name": "stdout",
     "output_type": "stream",
     "text": [
      "0 7581\n",
      "1 12439\n"
     ]
    }
   ],
   "source": [
    "renewed_labels = [];\n",
    "renewed_data = [];\n",
    "\n",
    "for(renewed), sub_df in retention_data.groupby('Renewed'):\n",
    "    renewed_data.append(sub_df.Renewed.count());\n",
    "    renewed_labels.append('Renewed' if renewed == 1 else 'Not Renewed');\n",
    "    print(renewed, sub_df.Renewed.count())"
   ]
  },
  {
   "cell_type": "code",
   "execution_count": 16,
   "metadata": {},
   "outputs": [
    {
     "name": "stdout",
     "output_type": "stream",
     "text": [
      "C 20\n",
      "F 9056\n",
      "M 10944\n"
     ]
    }
   ],
   "source": [
    "gender_labels = [];\n",
    "gender_data = [];\n",
    "\n",
    "for(gender), sub_df in retention_data.groupby('Gender'):\n",
    "    gender_data.append(sub_df.Gender.count());\n",
    "    gender_labels.append('Male' if gender == 'M' else 'Female' if gender =='F' else gender);\n",
    "    print(gender, sub_df.Gender.count())"
   ]
  },
  {
   "cell_type": "code",
   "execution_count": 18,
   "metadata": {
    "scrolled": true
   },
   "outputs": [
    {
     "data": {
      "image/png": "[encoded data removed]",
      "text/plain": [
       "<Figure size 432x288 with 2 Axes>"
      ]
     },
     "metadata": {},
     "output_type": "display_data"
    }
   ],
   "source": [
    "fig, axs = plt.subplots(1,2)\n",
    "plt.subplots_adjust(right= 2)\n",
    "axs[0].pie(renewed_data, labels=renewed_labels, autopct='%1.1f%%', explode=[0, 0.2], radius = 1.5,\n",
    "        shadow=True, startangle=90);\n",
    "axs[1].pie(gender_data, labels=gender_labels, autopct='%1.1f%%', explode=[0, 0.05, 0], radius = 1.5,\n",
    "        shadow=False, startangle=90);\n",
    "\n"
   ]
  },
  {
   "cell_type": "markdown",
   "metadata": {},
   "source": [
    "***"
   ]
  },
  {
   "cell_type": "markdown",
   "metadata": {},
   "source": [
    "<u><b>Marital status vs Renewal rate</b></u>"
   ]
  },
  {
   "cell_type": "code",
   "execution_count": 19,
   "metadata": {},
   "outputs": [
    {
     "data": {
      "image/png": "[encoded data removed]",
      "text/plain": [
       "<Figure size 720x360 with 1 Axes>"
      ]
     },
     "metadata": {
      "needs_background": "light"
     },
     "output_type": "display_data"
    }
   ],
   "source": [
    "props = retention_data.groupby('Marital_Status')['Renewed'].value_counts(normalize=True).unstack()\n",
    "props.plot(kind='bar', stacked=True, legend='bottom left', \n",
    "           title = 'Renewed contracts distribution per marital status', \n",
    "           figsize = (10,5));"
   ]
  },
  {
   "cell_type": "markdown",
   "metadata": {},
   "source": [
    "<span style='color:red'>**Conclusion:** </span>\n",
    "<span style='color:green'>**Renewal rate is irrelavant of the Marital Status**</span>"
   ]
  },
  {
   "cell_type": "markdown",
   "metadata": {},
   "source": [
    "***"
   ]
  },
  {
   "cell_type": "markdown",
   "metadata": {},
   "source": [
    "<u><b>Gender vs Renewal rate</b></u>"
   ]
  },
  {
   "cell_type": "code",
   "execution_count": 20,
   "metadata": {
    "scrolled": false
   },
   "outputs": [
    {
     "data": {
      "image/png": "[encoded data removed]",
      "text/plain": [
       "<Figure size 432x360 with 1 Axes>"
      ]
     },
     "metadata": {
      "needs_background": "light"
     },
     "output_type": "display_data"
    }
   ],
   "source": [
    "props = retention_data.groupby('Gender')['Renewed'].value_counts(normalize=True).unstack()\n",
    "props.plot(kind='bar', stacked=True, legend='bottom left', \n",
    "           title = 'Renewed contracts distribution per gender', \n",
    "           figsize = (6,5));"
   ]
  },
  {
   "cell_type": "markdown",
   "metadata": {},
   "source": [
    "<span style='color:red'>**Conclusion:** </span>\n",
    "<span style='color:green'>**Renewal rate is irrelavant of the Gender.**</span>"
   ]
  },
  {
   "cell_type": "markdown",
   "metadata": {},
   "source": [
    "***"
   ]
  },
  {
   "cell_type": "markdown",
   "metadata": {},
   "source": [
    "<u><b>Renewal rate w.r.t. to Gender and Marital Status</b></u>"
   ]
  },
  {
   "cell_type": "code",
   "execution_count": 19,
   "metadata": {},
   "outputs": [
    {
     "data": {
      "image/png": "[encoded data removed]",
      "text/plain": [
       "<Figure size 1559.75x720 with 3 Axes>"
      ]
     },
     "metadata": {
      "needs_background": "light"
     },
     "output_type": "display_data"
    }
   ],
   "source": [
    "sns.catplot(\"Marital_Status\", col=\"Gender\", data=retention_data, kind=\"count\",size=10, aspect=0.7, hue='Renewed');"
   ]
  },
  {
   "cell_type": "markdown",
   "metadata": {},
   "source": [
    "***"
   ]
  },
  {
   "cell_type": "markdown",
   "metadata": {},
   "source": [
    "<u><b>Payment method vs Renewal rate</b></u>"
   ]
  },
  {
   "cell_type": "code",
   "execution_count": 22,
   "metadata": {},
   "outputs": [
    {
     "data": {
      "image/png": "[encoded data removed]",
      "text/plain": [
       "<Figure size 432x360 with 1 Axes>"
      ]
     },
     "metadata": {
      "needs_background": "light"
     },
     "output_type": "display_data"
    }
   ],
   "source": [
    "props = retention_data.groupby('Payment_Method')['Renewed'].value_counts(normalize=True).unstack()\n",
    "props.plot(kind='bar', stacked=True, legend='bottom left', \n",
    "           title = 'Renewed contracts distribution based on contract length', \n",
    "           figsize = (6,5));"
   ]
  },
  {
   "cell_type": "markdown",
   "metadata": {},
   "source": [
    "<span style='color:green'>**Around 74% of monthly contracts are renewed.**</span><span style='color:red'> **vs. only ~50% of annual contracts.**</span>"
   ]
  },
  {
   "cell_type": "markdown",
   "metadata": {},
   "source": [
    "***"
   ]
  },
  {
   "cell_type": "markdown",
   "metadata": {},
   "source": [
    "<u><b>Acquisition channel vs Renewal rate</b></u>"
   ]
  },
  {
   "cell_type": "markdown",
   "metadata": {},
   "source": [
    "**Apendix**\n",
    "> **Outbound:** company approaches customers using their customer care center etc.  \n",
    "  **Inbound:** customer finds company through social media, search, etc.  \n",
    "  **Direct:** company sells directly to customers on their website.  \n",
    "  **Aggregators:** comparison sites.\n"
   ]
  },
  {
   "cell_type": "code",
   "execution_count": 25,
   "metadata": {},
   "outputs": [
    {
     "data": {
      "image/png": "[encoded data removed]",
      "text/plain": [
       "<Figure size 432x360 with 1 Axes>"
      ]
     },
     "metadata": {
      "needs_background": "light"
     },
     "output_type": "display_data"
    }
   ],
   "source": [
    "props = retention_data.groupby('Acquisition_Channel')['Renewed'].value_counts(normalize=True).unstack()\n",
    "props.plot(kind='bar', stacked=True, legend='bottom left', \n",
    "           title = 'Renewed contracts distribution based on acquisition strategy', \n",
    "           figsize = (6,5));"
   ]
  },
  {
   "cell_type": "markdown",
   "metadata": {},
   "source": [
    "<span style='color:red'> \n",
    "    **The <u>Outbound acquisition</u> method is not effective.<br> \n",
    "    The renewal rate in this case is 0%. <br>\n",
    "    The company should redefine Outbound acquisition strategy.**\n",
    "</span>"
   ]
  },
  {
   "cell_type": "code",
   "execution_count": null,
   "metadata": {},
   "outputs": [],
   "source": []
  },
  {
   "cell_type": "code",
   "execution_count": null,
   "metadata": {},
   "outputs": [],
   "source": []
  },
  {
   "cell_type": "code",
   "execution_count": null,
   "metadata": {},
   "outputs": [],
   "source": []
  },
  {
   "cell_type": "code",
   "execution_count": null,
   "metadata": {},
   "outputs": [],
   "source": []
  },
  {
   "cell_type": "code",
   "execution_count": null,
   "metadata": {},
   "outputs": [],
   "source": []
  },
  {
   "cell_type": "code",
   "execution_count": null,
   "metadata": {},
   "outputs": [],
   "source": []
  },
  {
   "cell_type": "code",
   "execution_count": null,
   "metadata": {},
   "outputs": [],
   "source": []
  },
  {
   "cell_type": "markdown",
   "metadata": {},
   "source": [
    "***"
   ]
  },
  {
   "cell_type": "markdown",
   "metadata": {},
   "source": [
    "## One Hot Encoding"
   ]
  },
  {
   "cell_type": "code",
   "execution_count": 26,
   "metadata": {},
   "outputs": [
    {
     "data": {
      "text/html": [
       "<div>\n",
       "<style scoped>\n",
       "    .dataframe tbody tr th:only-of-type {\n",
       "        vertical-align: middle;\n",
       "    }\n",
       "\n",
       "    .dataframe tbody tr th {\n",
       "        vertical-align: top;\n",
       "    }\n",
       "\n",
       "    .dataframe thead th {\n",
       "        text-align: right;\n",
       "    }\n",
       "</style>\n",
       "<table border=\"1\" class=\"dataframe\">\n",
       "  <thead>\n",
       "    <tr style=\"text-align: right;\">\n",
       "      <th></th>\n",
       "      <th>Age</th>\n",
       "      <th>Car_Value</th>\n",
       "      <th>Years_of_No_Claims_Bonus</th>\n",
       "      <th>Annual_Mileage</th>\n",
       "      <th>Years_of_Tenure_with_Current_Provider</th>\n",
       "      <th>Price</th>\n",
       "      <th>Actual_Change_in_Price_vs_last_Year</th>\n",
       "      <th>Grouped_Change_in_Price</th>\n",
       "      <th>Renewed</th>\n",
       "      <th>Marital_Status_D</th>\n",
       "      <th>...</th>\n",
       "      <th>Marital_Status_W</th>\n",
       "      <th>Gender_C</th>\n",
       "      <th>Gender_F</th>\n",
       "      <th>Gender_M</th>\n",
       "      <th>Payment_Method_Annual</th>\n",
       "      <th>Payment_Method_Monthly</th>\n",
       "      <th>Acquisition_Channel_Aggreg</th>\n",
       "      <th>Acquisition_Channel_Direct</th>\n",
       "      <th>Acquisition_Channel_Inbound</th>\n",
       "      <th>Acquisition_Channel_Outbound</th>\n",
       "    </tr>\n",
       "  </thead>\n",
       "  <tbody>\n",
       "    <tr>\n",
       "      <th>0</th>\n",
       "      <td>45</td>\n",
       "      <td>500</td>\n",
       "      <td>4</td>\n",
       "      <td>6000</td>\n",
       "      <td>4</td>\n",
       "      <td>289.4</td>\n",
       "      <td>-11.94</td>\n",
       "      <td>-0.05</td>\n",
       "      <td>0</td>\n",
       "      <td>0</td>\n",
       "      <td>...</td>\n",
       "      <td>0</td>\n",
       "      <td>0</td>\n",
       "      <td>1</td>\n",
       "      <td>0</td>\n",
       "      <td>0</td>\n",
       "      <td>1</td>\n",
       "      <td>0</td>\n",
       "      <td>0</td>\n",
       "      <td>1</td>\n",
       "      <td>0</td>\n",
       "    </tr>\n",
       "    <tr>\n",
       "      <th>1</th>\n",
       "      <td>40</td>\n",
       "      <td>3000</td>\n",
       "      <td>8</td>\n",
       "      <td>6000</td>\n",
       "      <td>4</td>\n",
       "      <td>170.4</td>\n",
       "      <td>45.62</td>\n",
       "      <td>0.35</td>\n",
       "      <td>1</td>\n",
       "      <td>0</td>\n",
       "      <td>...</td>\n",
       "      <td>0</td>\n",
       "      <td>0</td>\n",
       "      <td>0</td>\n",
       "      <td>1</td>\n",
       "      <td>0</td>\n",
       "      <td>1</td>\n",
       "      <td>0</td>\n",
       "      <td>0</td>\n",
       "      <td>1</td>\n",
       "      <td>0</td>\n",
       "    </tr>\n",
       "    <tr>\n",
       "      <th>2</th>\n",
       "      <td>25</td>\n",
       "      <td>4000</td>\n",
       "      <td>4</td>\n",
       "      <td>4000</td>\n",
       "      <td>4</td>\n",
       "      <td>466.1</td>\n",
       "      <td>-123.15</td>\n",
       "      <td>-0.20</td>\n",
       "      <td>1</td>\n",
       "      <td>0</td>\n",
       "      <td>...</td>\n",
       "      <td>0</td>\n",
       "      <td>0</td>\n",
       "      <td>1</td>\n",
       "      <td>0</td>\n",
       "      <td>0</td>\n",
       "      <td>1</td>\n",
       "      <td>0</td>\n",
       "      <td>0</td>\n",
       "      <td>1</td>\n",
       "      <td>0</td>\n",
       "    </tr>\n",
       "    <tr>\n",
       "      <th>3</th>\n",
       "      <td>42</td>\n",
       "      <td>1800</td>\n",
       "      <td>9</td>\n",
       "      <td>10000</td>\n",
       "      <td>4</td>\n",
       "      <td>245.1</td>\n",
       "      <td>2.34</td>\n",
       "      <td>0.00</td>\n",
       "      <td>1</td>\n",
       "      <td>0</td>\n",
       "      <td>...</td>\n",
       "      <td>0</td>\n",
       "      <td>0</td>\n",
       "      <td>0</td>\n",
       "      <td>1</td>\n",
       "      <td>1</td>\n",
       "      <td>0</td>\n",
       "      <td>0</td>\n",
       "      <td>0</td>\n",
       "      <td>1</td>\n",
       "      <td>0</td>\n",
       "    </tr>\n",
       "    <tr>\n",
       "      <th>4</th>\n",
       "      <td>59</td>\n",
       "      <td>5000</td>\n",
       "      <td>9</td>\n",
       "      <td>3000</td>\n",
       "      <td>4</td>\n",
       "      <td>240.5</td>\n",
       "      <td>42.56</td>\n",
       "      <td>0.20</td>\n",
       "      <td>0</td>\n",
       "      <td>0</td>\n",
       "      <td>...</td>\n",
       "      <td>0</td>\n",
       "      <td>0</td>\n",
       "      <td>0</td>\n",
       "      <td>1</td>\n",
       "      <td>1</td>\n",
       "      <td>0</td>\n",
       "      <td>0</td>\n",
       "      <td>0</td>\n",
       "      <td>1</td>\n",
       "      <td>0</td>\n",
       "    </tr>\n",
       "  </tbody>\n",
       "</table>\n",
       "<p>5 rows × 23 columns</p>\n",
       "</div>"
      ],
      "text/plain": [
       "   Age  Car_Value  Years_of_No_Claims_Bonus  Annual_Mileage  \\\n",
       "0   45        500                         4            6000   \n",
       "1   40       3000                         8            6000   \n",
       "2   25       4000                         4            4000   \n",
       "3   42       1800                         9           10000   \n",
       "4   59       5000                         9            3000   \n",
       "\n",
       "   Years_of_Tenure_with_Current_Provider  Price  \\\n",
       "0                                      4  289.4   \n",
       "1                                      4  170.4   \n",
       "2                                      4  466.1   \n",
       "3                                      4  245.1   \n",
       "4                                      4  240.5   \n",
       "\n",
       "   Actual_Change_in_Price_vs_last_Year  Grouped_Change_in_Price  Renewed  \\\n",
       "0                               -11.94                    -0.05        0   \n",
       "1                                45.62                     0.35        1   \n",
       "2                              -123.15                    -0.20        1   \n",
       "3                                 2.34                     0.00        1   \n",
       "4                                42.56                     0.20        0   \n",
       "\n",
       "   Marital_Status_D  ...  Marital_Status_W  Gender_C  Gender_F  Gender_M  \\\n",
       "0                 0  ...                 0         0         1         0   \n",
       "1                 0  ...                 0         0         0         1   \n",
       "2                 0  ...                 0         0         1         0   \n",
       "3                 0  ...                 0         0         0         1   \n",
       "4                 0  ...                 0         0         0         1   \n",
       "\n",
       "   Payment_Method_Annual  Payment_Method_Monthly  Acquisition_Channel_Aggreg  \\\n",
       "0                      0                       1                           0   \n",
       "1                      0                       1                           0   \n",
       "2                      0                       1                           0   \n",
       "3                      1                       0                           0   \n",
       "4                      1                       0                           0   \n",
       "\n",
       "   Acquisition_Channel_Direct  Acquisition_Channel_Inbound  \\\n",
       "0                           0                            1   \n",
       "1                           0                            1   \n",
       "2                           0                            1   \n",
       "3                           0                            1   \n",
       "4                           0                            1   \n",
       "\n",
       "   Acquisition_Channel_Outbound  \n",
       "0                             0  \n",
       "1                             0  \n",
       "2                             0  \n",
       "3                             0  \n",
       "4                             0  \n",
       "\n",
       "[5 rows x 23 columns]"
      ]
     },
     "execution_count": 26,
     "metadata": {},
     "output_type": "execute_result"
    }
   ],
   "source": [
    "retention_data_complete = pd.get_dummies(retention_data);\n",
    "retention_data_complete.head()"
   ]
  },
  {
   "cell_type": "code",
   "execution_count": null,
   "metadata": {},
   "outputs": [],
   "source": []
  },
  {
   "cell_type": "code",
   "execution_count": 340,
   "metadata": {},
   "outputs": [],
   "source": [
    "# pp.ProfileReport(retention_data_complete)"
   ]
  },
  {
   "cell_type": "code",
   "execution_count": null,
   "metadata": {},
   "outputs": [],
   "source": []
  }
 ],
 "metadata": {
  "kernelspec": {
   "display_name": "Python 3",
   "language": "python",
   "name": "python3"
  },
  "language_info": {
   "codemirror_mode": {
    "name": "ipython",
    "version": 3
   },
   "file_extension": ".py",
   "mimetype": "text/x-python",
   "name": "python",
   "nbconvert_exporter": "python",
   "pygments_lexer": "ipython3",
   "version": "3.7.3"
  }
 },
 "nbformat": 4,
 "nbformat_minor": 2
}
